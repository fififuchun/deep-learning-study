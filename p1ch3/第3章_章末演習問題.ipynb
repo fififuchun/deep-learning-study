{
  "nbformat": 4,
  "nbformat_minor": 0,
  "metadata": {
    "colab": {
      "name": "第3章_章末演習問題.ipynb",
      "provenance": [],
      "collapsed_sections": []
    },
    "kernelspec": {
      "name": "python3",
      "display_name": "Python 3"
    }
  },
  "cells": [
    {
      "cell_type": "markdown",
      "metadata": {
        "id": "WehYXzWpwhi1"
      },
      "source": [
        "第3章の章末演習問題"
      ]
    },
    {
      "cell_type": "markdown",
      "metadata": {
        "id": "lRoPRKcMwlbZ"
      },
      "source": [
        "### [1] list(range(9))からテンソルaを作成して、サイズ、オフセット、ストライドを確認してください。\n",
        "※ ここではGoogle Colaraboratoryでの実行を想定しています。\n"
      ]
    },
    {
      "cell_type": "markdown",
      "metadata": {
        "id": "FSZC8BAJw9A-"
      },
      "source": [
        "#### （a） b = a.view(3, 3)を使って新しいテンソルを作成します。viewはどんな動作をするのか？またaとbが同じストレージを共有していることを確認してください。"
      ]
    },
    {
      "cell_type": "code",
      "metadata": {
        "id": "kduB0LXvxL0b"
      },
      "source": [
        "# 回答"
      ],
      "execution_count": null,
      "outputs": []
    },
    {
      "cell_type": "markdown",
      "metadata": {
        "id": "YO24ioODyKtO"
      },
      "source": [
        "#### （b） テンソル c = b[1:,1:]を作成し、サイズ、オフセット、ストライドを確認してください"
      ]
    },
    {
      "cell_type": "code",
      "metadata": {
        "id": "U_7dlCScyWYr"
      },
      "source": [
        "# 回答"
      ],
      "execution_count": null,
      "outputs": []
    },
    {
      "cell_type": "markdown",
      "metadata": {
        "id": "EdWttSfHzGKz"
      },
      "source": [
        "### [2] torch ライブラリからcosineやsquare rootのような数学の演算に対応する関数を見つけてください。"
      ]
    },
    {
      "cell_type": "markdown",
      "metadata": {
        "id": "9yzctZuLzODR"
      },
      "source": [
        "#### （a） 関数を要素ごとに変数aに適用してください。なぜエラーが発生するのでしょう？"
      ]
    },
    {
      "cell_type": "code",
      "metadata": {
        "id": "DFq3TaQBy-ZE"
      },
      "source": [
        "# 回答\n"
      ],
      "execution_count": null,
      "outputs": []
    },
    {
      "cell_type": "markdown",
      "metadata": {
        "id": "OBEZN-2gzy-P"
      },
      "source": [
        "#### （b） 関数を実行可能にするために、どのような操作が必要なのでしょうか？"
      ]
    },
    {
      "cell_type": "code",
      "metadata": {
        "id": "4e-l9C2S5Ihj"
      },
      "source": [
        "# 回答"
      ],
      "execution_count": null,
      "outputs": []
    },
    {
      "cell_type": "markdown",
      "metadata": {
        "id": "Ei2PjV2b1pVy"
      },
      "source": [
        "#### （c） 何か自作の関数があれば、動かしてみましょう。"
      ]
    },
    {
      "cell_type": "code",
      "metadata": {
        "id": "6ij9x9461uDC"
      },
      "source": [
        "# 省略"
      ],
      "execution_count": null,
      "outputs": []
    },
    {
      "cell_type": "markdown",
      "metadata": {
        "id": "6RKZsWxPz6kz"
      },
      "source": [
        "以上。\n"
      ]
    }
  ]
}
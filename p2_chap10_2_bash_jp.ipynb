{
  "nbformat": 4,
  "nbformat_minor": 0,
  "metadata": {
    "kernelspec": {
      "display_name": "Python 3",
      "language": "python",
      "name": "python3"
    },
    "language_info": {
      "codemirror_mode": {
        "name": "ipython",
        "version": 3
      },
      "file_extension": ".py",
      "mimetype": "text/x-python",
      "name": "python",
      "nbconvert_exporter": "python",
      "pygments_lexer": "ipython3",
      "version": "3.7.7"
    },
    "colab": {
      "name": "p2_chap10_2_bash_jp.ipynb",
      "provenance": [],
      "collapsed_sections": []
    }
  },
  "cells": [
    {
      "cell_type": "markdown",
      "metadata": {
        "id": "qRoFOC0S3y91"
      },
      "source": [
        "## 第2部第10章2節のbash部分の実行コード\n",
        "\n",
        "※ ここではGoogle Colaraboratoryでの実行を想定しています。\n",
        "\n",
        "※ Google Colaraboratoryでbashコマンドを実行するには、命令の前に!をつけます。"
      ]
    },
    {
      "cell_type": "code",
      "metadata": {
        "id": "UJUTSv-5327A",
        "outputId": "e77ed741-870e-41e3-cd80-9f33ce83bf05",
        "colab": {
          "base_uri": "https://localhost:8080/"
        }
      },
      "source": [
        "# 関連スクリプトの取得\n",
        "!wget -P ./data/part2/luna https://raw.githubusercontent.com/deep-learning-with-pytorch/dlwpt-code/master/data/part2/luna/annotations.csv\n",
        "!wget -P ./data/part2/luna https://raw.githubusercontent.com/deep-learning-with-pytorch/dlwpt-code/master/data/part2/luna/candidates.csv"
      ],
      "execution_count": null,
      "outputs": [
        {
          "output_type": "stream",
          "text": [
            "--2020-11-03 11:32:39--  https://raw.githubusercontent.com/deep-learning-with-pytorch/dlwpt-code/master/data/part2/luna/annotations.csv\n",
            "Resolving raw.githubusercontent.com (raw.githubusercontent.com)... 151.101.0.133, 151.101.64.133, 151.101.128.133, ...\n",
            "Connecting to raw.githubusercontent.com (raw.githubusercontent.com)|151.101.0.133|:443... connected.\n",
            "HTTP request sent, awaiting response... 200 OK\n",
            "Length: 135799 (133K) [text/plain]\n",
            "Saving to: ‘./data/part2/luna/annotations.csv’\n",
            "\n",
            "annotations.csv     100%[===================>] 132.62K  --.-KB/s    in 0.04s   \n",
            "\n",
            "2020-11-03 11:32:39 (3.32 MB/s) - ‘./data/part2/luna/annotations.csv’ saved [135799/135799]\n",
            "\n",
            "--2020-11-03 11:32:39--  https://raw.githubusercontent.com/deep-learning-with-pytorch/dlwpt-code/master/data/part2/luna/candidates.csv\n",
            "Resolving raw.githubusercontent.com (raw.githubusercontent.com)... 151.101.0.133, 151.101.64.133, 151.101.128.133, ...\n",
            "Connecting to raw.githubusercontent.com (raw.githubusercontent.com)|151.101.0.133|:443... connected.\n",
            "HTTP request sent, awaiting response... 200 OK\n",
            "Length: 54876815 (52M) [text/plain]\n",
            "Saving to: ‘./data/part2/luna/candidates.csv’\n",
            "\n",
            "candidates.csv      100%[===================>]  52.33M  55.8MB/s    in 0.9s    \n",
            "\n",
            "2020-11-03 11:32:44 (55.8 MB/s) - ‘./data/part2/luna/candidates.csv’ saved [54876815/54876815]\n",
            "\n"
          ],
          "name": "stdout"
        }
      ]
    },
    {
      "cell_type": "code",
      "metadata": {
        "id": "EYNqdFIV3y93",
        "outputId": "2b890f35-cd13-4bb7-f662-d28ef1135ea4",
        "colab": {
          "base_uri": "https://localhost:8080/"
        }
      },
      "source": [
        "# ファイル内の行数を数える\n",
        "!wc -l data/part2/luna/candidates.csv \n"
      ],
      "execution_count": null,
      "outputs": [
        {
          "output_type": "stream",
          "text": [
            "551066 data/part2/luna/candidates.csv\n"
          ],
          "name": "stdout"
        }
      ]
    },
    {
      "cell_type": "code",
      "metadata": {
        "id": "rcOWQFUT3y-D",
        "outputId": "7ae3562a-1c87-438b-cc9d-8c45b5546b44",
        "colab": {
          "base_uri": "https://localhost:8080/"
        }
      },
      "source": [
        "# ファイルの最初の数行を出力する\n",
        "# .csvファイルの1行目は列ヘッダーを定義しています\n",
        "!head data/part2/luna/candidates.csv \n"
      ],
      "execution_count": null,
      "outputs": [
        {
          "output_type": "stream",
          "text": [
            "seriesuid,coordX,coordY,coordZ,class\n",
            "1.3.6.1.4.1.14519.5.2.1.6279.6001.100225287222365663678666836860,-56.08,-67.85,-311.92,0\n",
            "1.3.6.1.4.1.14519.5.2.1.6279.6001.100225287222365663678666836860,53.21,-244.41,-245.17,0\n",
            "1.3.6.1.4.1.14519.5.2.1.6279.6001.100225287222365663678666836860,103.66,-121.8,-286.62,0\n",
            "1.3.6.1.4.1.14519.5.2.1.6279.6001.100225287222365663678666836860,-33.66,-72.75,-308.41,0\n",
            "1.3.6.1.4.1.14519.5.2.1.6279.6001.100225287222365663678666836860,-32.25,-85.36,-362.51,0\n",
            "1.3.6.1.4.1.14519.5.2.1.6279.6001.100225287222365663678666836860,-26.65,-203.07,-165.07,0\n",
            "1.3.6.1.4.1.14519.5.2.1.6279.6001.100225287222365663678666836860,-74.99,-114.79,-311.92,0\n",
            "1.3.6.1.4.1.14519.5.2.1.6279.6001.100225287222365663678666836860,-16.14,-248.61,-239.55,0\n",
            "1.3.6.1.4.1.14519.5.2.1.6279.6001.100225287222365663678666836860,135.89,-141.41,-252.2,0\n"
          ],
          "name": "stdout"
        }
      ]
    },
    {
      "cell_type": "code",
      "metadata": {
        "id": "cktE2pOa3y-K",
        "outputId": "db26b7e0-ffba-4673-d6ad-388553d6d492",
        "colab": {
          "base_uri": "https://localhost:8080/"
        }
      },
      "source": [
        "# 結節であることを示す、1で終わる行数を数えます\n",
        "! grep ',1$' data/part2/luna/candidates.csv | wc -l\n"
      ],
      "execution_count": null,
      "outputs": [
        {
          "output_type": "stream",
          "text": [
            "1351\n"
          ],
          "name": "stdout"
        }
      ]
    },
    {
      "cell_type": "code",
      "metadata": {
        "id": "9Y1an7o33y-P",
        "outputId": "8be92e75-7bba-4b5b-d4fc-c725a1d494fc",
        "colab": {
          "base_uri": "https://localhost:8080/"
        }
      },
      "source": [
        "# candidates.csvファイルとは異なる行数になります\n",
        "!wc -l data/part2/luna/annotations.csv\n"
      ],
      "execution_count": null,
      "outputs": [
        {
          "output_type": "stream",
          "text": [
            "1187 data/part2/luna/annotations.csv\n"
          ],
          "name": "stdout"
        }
      ]
    },
    {
      "cell_type": "code",
      "metadata": {
        "id": "TnBOR_9p3y-T",
        "outputId": "bad23cfd-ccee-4113-b97c-bd1623ef6997",
        "colab": {
          "base_uri": "https://localhost:8080/"
        }
      },
      "source": [
        "# 表示された最後の列も異なります\n",
        "! head data/part2/luna/annotations.csv\n"
      ],
      "execution_count": null,
      "outputs": [
        {
          "output_type": "stream",
          "text": [
            "seriesuid,coordX,coordY,coordZ,diameter_mm\n",
            "1.3.6.1.4.1.14519.5.2.1.6279.6001.100225287222365663678666836860,-128.6994211,-175.3192718,-298.3875064,5.651470635\n",
            "1.3.6.1.4.1.14519.5.2.1.6279.6001.100225287222365663678666836860,103.7836509,-211.9251487,-227.12125,4.224708481\n",
            "1.3.6.1.4.1.14519.5.2.1.6279.6001.100398138793540579077826395208,69.63901724,-140.9445859,876.3744957,5.786347814\n",
            "1.3.6.1.4.1.14519.5.2.1.6279.6001.100621383016233746780170740405,-24.0138242,192.1024053,-391.0812764,8.143261683\n",
            "1.3.6.1.4.1.14519.5.2.1.6279.6001.100621383016233746780170740405,2.441546798,172.4648812,-405.4937318,18.54514997\n",
            "1.3.6.1.4.1.14519.5.2.1.6279.6001.100621383016233746780170740405,90.93171321,149.0272657,-426.5447146,18.20857028\n",
            "1.3.6.1.4.1.14519.5.2.1.6279.6001.100621383016233746780170740405,89.54076865,196.4051593,-515.0733216,16.38127631\n",
            "1.3.6.1.4.1.14519.5.2.1.6279.6001.100953483028192176989979435275,81.50964574,54.9572186,-150.3464233,10.36232088\n",
            "1.3.6.1.4.1.14519.5.2.1.6279.6001.102681962408431413578140925249,105.0557924,19.82526014,-91.24725078,21.08961863\n"
          ],
          "name": "stdout"
        }
      ]
    },
    {
      "cell_type": "code",
      "metadata": {
        "id": "PuFx8LGg3y-W",
        "outputId": "34a3934e-2638-4a56-89d9-2356e2d73cb4",
        "colab": {
          "base_uri": "https://localhost:8080/"
        }
      },
      "source": [
        "# こちらの出力の１行目の座標と\n",
        "! grep 100225287222365663678666836860  data/part2/luna/annotations.csv\n"
      ],
      "execution_count": null,
      "outputs": [
        {
          "output_type": "stream",
          "text": [
            "1.3.6.1.4.1.14519.5.2.1.6279.6001.100225287222365663678666836860,-128.6994211,-175.3192718,-298.3875064,5.651470635\n",
            "1.3.6.1.4.1.14519.5.2.1.6279.6001.100225287222365663678666836860,103.7836509,-211.9251487,-227.12125,4.224708481\n"
          ],
          "name": "stdout"
        }
      ]
    },
    {
      "cell_type": "code",
      "metadata": {
        "id": "MPnAaHZI3y-Z",
        "outputId": "98bc10b3-b5de-46d4-f1a5-7b46b30cd2cd",
        "colab": {
          "base_uri": "https://localhost:8080/"
        }
      },
      "source": [
        "# こちらの出力の2行目の座標は、互いにとても近い位置にあります。\n",
        "! grep '100225287222365663678666836860.*,1$' data/part2/luna/candidates.csv"
      ],
      "execution_count": null,
      "outputs": [
        {
          "output_type": "stream",
          "text": [
            "1.3.6.1.4.1.14519.5.2.1.6279.6001.100225287222365663678666836860,104.16480444,-211.685591018,-227.011363746,1\n",
            "1.3.6.1.4.1.14519.5.2.1.6279.6001.100225287222365663678666836860,-128.94,-175.04,-297.87,1\n"
          ],
          "name": "stdout"
        }
      ]
    },
    {
      "cell_type": "markdown",
      "metadata": {
        "id": "zWkzGkvM3y-c"
      },
      "source": [
        "以上。"
      ]
    }
  ]
}
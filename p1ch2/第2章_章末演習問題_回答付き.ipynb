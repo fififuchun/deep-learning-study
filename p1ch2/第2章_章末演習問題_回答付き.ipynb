{
  "nbformat": 4,
  "nbformat_minor": 0,
  "metadata": {
    "colab": {
      "name": "第2章_章末演習問題_回答付き.ipynb",
      "provenance": [],
      "collapsed_sections": []
    },
    "kernelspec": {
      "name": "python3",
      "display_name": "Python 3"
    }
  },
  "cells": [
    {
      "cell_type": "markdown",
      "metadata": {
        "id": "WehYXzWpwhi1"
      },
      "source": [
        "### 第2章の章末演習問題"
      ]
    },
    {
      "cell_type": "markdown",
      "metadata": {
        "id": "lRoPRKcMwlbZ"
      },
      "source": [
        "### [1] ゴールデンレトリバーの画像をhorse-to-zebraモデルに入力してください。\n",
        "\n",
        "※ ここではGoogle Colaraboratoryでの実行を想定しています。\n"
      ]
    },
    {
      "cell_type": "markdown",
      "metadata": {
        "id": "FSZC8BAJw9A-"
      },
      "source": [
        "#### （a）そのために必要な画像の前処理はなんでしょう。"
      ]
    },
    {
      "cell_type": "code",
      "metadata": {
        "id": "kduB0LXvxL0b"
      },
      "source": [
        "# 回答"
      ],
      "execution_count": null,
      "outputs": []
    },
    {
      "cell_type": "code",
      "metadata": {
        "id": "M83OhX8DxA4M"
      },
      "source": [
        "from PIL import Image\n",
        "import torch\n",
        "import torch.nn as nn\n",
        "from torchvision import transforms\n",
        "\n",
        "#[1] 画像のロード\n",
        "\n",
        "# GitHubのリポジトリから実行の場合\n",
        "#img = Image.open(\"../data/p1ch2/horse.jpg\")\n",
        "\n",
        "# Google Colaboratoryの場合\n",
        "# /data/p1ch2/bobby.jpgを選択・アップロードしてください\n",
        "from google.colab import files\n",
        "\n",
        "uploade = files.upload()\n",
        "img = Image.open(\"horse.jpg\")\n",
        "\n",
        "# [2] 前処理の定義\n",
        "preprocess = transforms.Compose([transforms.Resize(256),\n",
        "                                 transforms.ToTensor()])\n",
        "\n",
        "# [3] 前処理の実施\n",
        "img_t = preprocess(img)\n",
        "batch_t = torch.unsqueeze(img_t, 0)"
      ],
      "execution_count": null,
      "outputs": []
    },
    {
      "cell_type": "markdown",
      "metadata": {
        "id": "YO24ioODyKtO"
      },
      "source": [
        "\n",
        "#### （b）出力結果を確認してください。"
      ]
    },
    {
      "cell_type": "code",
      "metadata": {
        "id": "U_7dlCScyWYr"
      },
      "source": [
        "# 回答"
      ],
      "execution_count": null,
      "outputs": []
    },
    {
      "cell_type": "code",
      "metadata": {
        "id": "Fk1I4lGbw4qS"
      },
      "source": [
        "class ResNetBlock(nn.Module): # <1>\n",
        "\n",
        "    def __init__(self, dim):\n",
        "        super(ResNetBlock, self).__init__()\n",
        "        self.conv_block = self.build_conv_block(dim)\n",
        "\n",
        "    def build_conv_block(self, dim):\n",
        "        conv_block = []\n",
        "\n",
        "        conv_block += [nn.ReflectionPad2d(1)]\n",
        "\n",
        "        conv_block += [nn.Conv2d(dim, dim, kernel_size=3, padding=0, bias=True),\n",
        "                       nn.InstanceNorm2d(dim),\n",
        "                       nn.ReLU(True)]\n",
        "\n",
        "        conv_block += [nn.ReflectionPad2d(1)]\n",
        "\n",
        "        conv_block += [nn.Conv2d(dim, dim, kernel_size=3, padding=0, bias=True),\n",
        "                       nn.InstanceNorm2d(dim)]\n",
        "\n",
        "        return nn.Sequential(*conv_block)\n",
        "\n",
        "    def forward(self, x):\n",
        "        out = x + self.conv_block(x) # <2>\n",
        "        return out\n",
        "\n",
        "\n",
        "class ResNetGenerator(nn.Module):\n",
        "\n",
        "    def __init__(self, input_nc=3, output_nc=3, ngf=64, n_blocks=9): # <3> \n",
        "\n",
        "        assert(n_blocks >= 0)\n",
        "        super(ResNetGenerator, self).__init__()\n",
        "\n",
        "        self.input_nc = input_nc\n",
        "        self.output_nc = output_nc\n",
        "        self.ngf = ngf\n",
        "\n",
        "        model = [nn.ReflectionPad2d(3),\n",
        "                 nn.Conv2d(input_nc, ngf, kernel_size=7, padding=0, bias=True),\n",
        "                 nn.InstanceNorm2d(ngf),\n",
        "                 nn.ReLU(True)]\n",
        "\n",
        "        n_downsampling = 2\n",
        "        for i in range(n_downsampling):\n",
        "            mult = 2**i\n",
        "            model += [nn.Conv2d(ngf * mult, ngf * mult * 2, kernel_size=3,\n",
        "                                stride=2, padding=1, bias=True),\n",
        "                      nn.InstanceNorm2d(ngf * mult * 2),\n",
        "                      nn.ReLU(True)]\n",
        "\n",
        "        mult = 2**n_downsampling\n",
        "        for i in range(n_blocks):\n",
        "            model += [ResNetBlock(ngf * mult)]\n",
        "\n",
        "        for i in range(n_downsampling):\n",
        "            mult = 2**(n_downsampling - i)\n",
        "            model += [nn.ConvTranspose2d(ngf * mult, int(ngf * mult / 2),\n",
        "                                         kernel_size=3, stride=2,\n",
        "                                         padding=1, output_padding=1,\n",
        "                                         bias=True),\n",
        "                      nn.InstanceNorm2d(int(ngf * mult / 2)),\n",
        "                      nn.ReLU(True)]\n",
        "\n",
        "        model += [nn.ReflectionPad2d(3)]\n",
        "        model += [nn.Conv2d(ngf, output_nc, kernel_size=7, padding=0)]\n",
        "        model += [nn.Tanh()]\n",
        "\n",
        "        self.model = nn.Sequential(*model)\n",
        "\n",
        "    def forward(self, input): # <3>\n",
        "        return self.model(input)"
      ],
      "execution_count": null,
      "outputs": []
    },
    {
      "cell_type": "code",
      "metadata": {
        "id": "69rHfqbT1KPq"
      },
      "source": [
        "netG = ResNetGenerator()"
      ],
      "execution_count": null,
      "outputs": []
    },
    {
      "cell_type": "code",
      "metadata": {
        "id": "ZW0waw951MSB"
      },
      "source": [
        "# GitHubのリポジトリから実行の場合\n",
        "#model_path = '../data/p1ch2/horse2zebra_0.4.0.pth'\n",
        "\n",
        "# Google Colaboratoryの場合\n",
        "# /data/p1ch2/horse2zebra_0.4.0.pthを選択・アップロードしてください(少し時間がかかります)\n",
        "from google.colab import files\n",
        "uploade = files.upload()\n",
        "\n",
        "model_path = './horse2zebra_0.4.0.pth'\n",
        "model_data = torch.load(model_path)\n",
        "netG.load_state_dict(model_data)"
      ],
      "execution_count": null,
      "outputs": []
    },
    {
      "cell_type": "code",
      "metadata": {
        "id": "aC6OYGt_1Or5"
      },
      "source": [
        "# 順伝搬\n",
        "batch_out = netG(batch_t)\n"
      ],
      "execution_count": null,
      "outputs": []
    },
    {
      "cell_type": "code",
      "metadata": {
        "id": "V8hHUwjm3OvB"
      },
      "source": [
        "# 出力\n",
        "out_t = (batch_out.data.squeeze() + 1.0) / 2.0\n",
        "out_img = transforms.ToPILImage()(out_t)\n",
        "# out_img.save('../data/p1ch2/zebra.jpg')\n",
        "out_img"
      ],
      "execution_count": null,
      "outputs": []
    },
    {
      "cell_type": "markdown",
      "metadata": {
        "id": "EdWttSfHzGKz"
      },
      "source": [
        "### [2] hubconf.py ファイルを提供しているプロジェクトをGitHubで検索してください。"
      ]
    },
    {
      "cell_type": "markdown",
      "metadata": {
        "id": "9yzctZuLzODR"
      },
      "source": [
        "#### （a）いくつのリポジトリが見つかりましたか"
      ]
    },
    {
      "cell_type": "code",
      "metadata": {
        "id": "DFq3TaQBy-ZE"
      },
      "source": [
        "# 回答"
      ],
      "execution_count": null,
      "outputs": []
    },
    {
      "cell_type": "code",
      "metadata": {
        "id": "BgrODM2EzVTH"
      },
      "source": [
        "# GitHub（https://github.com/）の左上の検索欄にhubconf.pyと入力して検索、もしくは、https://github.com/search?q=hubconf.pyにアクセス\n",
        "# 左側メニューのCodeを選択\n",
        "# 左側メニューのLanguageからPythonを選択\n"
      ],
      "execution_count": null,
      "outputs": []
    },
    {
      "cell_type": "code",
      "metadata": {
        "id": "DlDSTqqqcApR"
      },
      "source": [
        "# 例えば以下のようなものが見つかります\n",
        "\n",
        "# https://github.com/tehutahu/PGGAN/blob/1404e80f44b9401bc87eebb44ef667e5dfff2531/hubconf.py\n",
        "\n",
        "# https://github.com/Vivaswan13/Question-Generation-using-GPT-2/blob/41e5592405d67ff199d88d79502b21ab835c9d02/pytorch-pretrained-BERT/hubconf.py\n"
      ],
      "execution_count": null,
      "outputs": []
    },
    {
      "cell_type": "markdown",
      "metadata": {
        "id": "OBEZN-2gzy-P"
      },
      "source": [
        "#### （b）hubconf.pyを参考に面白そうなプロジェクトを探してください。このドキュメントファイルからプロジェクトの目的が理解できますか？ "
      ]
    },
    {
      "cell_type": "code",
      "metadata": {
        "id": "4e-l9C2S5Ihj"
      },
      "source": [
        "# 回答"
      ],
      "execution_count": null,
      "outputs": []
    },
    {
      "cell_type": "code",
      "metadata": {
        "id": "4wXs0jgrz3EE"
      },
      "source": [
        "# 省略"
      ],
      "execution_count": null,
      "outputs": []
    },
    {
      "cell_type": "markdown",
      "metadata": {
        "id": "Ei2PjV2b1pVy"
      },
      "source": [
        "#### （c）プロジェクトをブックマークしておき、本書を読み終わったら再度見てみてください。そのときには実装内容を理解できますか？"
      ]
    },
    {
      "cell_type": "code",
      "metadata": {
        "id": "563PcQlqZSFX"
      },
      "source": [
        "# 回答"
      ],
      "execution_count": null,
      "outputs": []
    },
    {
      "cell_type": "code",
      "metadata": {
        "id": "6ij9x9461uDC"
      },
      "source": [
        "# 省略"
      ],
      "execution_count": null,
      "outputs": []
    },
    {
      "cell_type": "markdown",
      "metadata": {
        "id": "6RKZsWxPz6kz"
      },
      "source": [
        "以上。\n"
      ]
    }
  ]
}
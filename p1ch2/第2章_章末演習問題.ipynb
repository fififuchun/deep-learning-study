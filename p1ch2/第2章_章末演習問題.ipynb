{
  "nbformat": 4,
  "nbformat_minor": 0,
  "metadata": {
    "colab": {
      "name": "第2章_章末演習問題.ipynb",
      "provenance": [],
      "collapsed_sections": []
    },
    "kernelspec": {
      "name": "python3",
      "display_name": "Python 3"
    }
  },
  "cells": [
    {
      "cell_type": "markdown",
      "metadata": {
        "id": "WehYXzWpwhi1"
      },
      "source": [
        "### 第2章の章末演習問題"
      ]
    },
    {
      "cell_type": "markdown",
      "metadata": {
        "id": "lRoPRKcMwlbZ"
      },
      "source": [
        "### [1] ゴールデンレトリバーの画像をhorse-to-zebraモデルに入力してください。\n",
        "\n",
        "※ ここではGoogle Colaraboratoryでの実行を想定しています。\n"
      ]
    },
    {
      "cell_type": "markdown",
      "metadata": {
        "id": "FSZC8BAJw9A-"
      },
      "source": [
        "#### （a）そのために必要な画像の前処理はなんでしょう。"
      ]
    },
    {
      "cell_type": "code",
      "metadata": {
        "id": "kduB0LXvxL0b"
      },
      "source": [
        "# 回答"
      ],
      "execution_count": null,
      "outputs": []
    },
    {
      "cell_type": "markdown",
      "metadata": {
        "id": "YO24ioODyKtO"
      },
      "source": [
        "\n",
        "#### （b）出力結果を確認してください。"
      ]
    },
    {
      "cell_type": "code",
      "metadata": {
        "id": "U_7dlCScyWYr"
      },
      "source": [
        "# 回答"
      ],
      "execution_count": null,
      "outputs": []
    },
    {
      "cell_type": "markdown",
      "metadata": {
        "id": "EdWttSfHzGKz"
      },
      "source": [
        "### [2] hubconf.py ファイルを提供しているプロジェクトをGitHubで検索してください。"
      ]
    },
    {
      "cell_type": "markdown",
      "metadata": {
        "id": "9yzctZuLzODR"
      },
      "source": [
        "#### （a）いくつのリポジトリが見つかりましたか"
      ]
    },
    {
      "cell_type": "code",
      "metadata": {
        "id": "DFq3TaQBy-ZE"
      },
      "source": [
        "# 回答"
      ],
      "execution_count": null,
      "outputs": []
    },
    {
      "cell_type": "markdown",
      "metadata": {
        "id": "OBEZN-2gzy-P"
      },
      "source": [
        "#### （b）hubconf.pyを参考に面白そうなプロジェクトを探してください。このドキュメントファイルからプロジェクトの目的が理解できますか？ "
      ]
    },
    {
      "cell_type": "code",
      "metadata": {
        "id": "4e-l9C2S5Ihj"
      },
      "source": [
        "# 回答"
      ],
      "execution_count": null,
      "outputs": []
    },
    {
      "cell_type": "code",
      "metadata": {
        "id": "4wXs0jgrz3EE"
      },
      "source": [
        "# 省略"
      ],
      "execution_count": null,
      "outputs": []
    },
    {
      "cell_type": "markdown",
      "metadata": {
        "id": "Ei2PjV2b1pVy"
      },
      "source": [
        "#### （c）プロジェクトをブックマークしておき、本書を読み終わったら再度見てみてください。そのときには実装内容を理解できますか？"
      ]
    },
    {
      "cell_type": "code",
      "metadata": {
        "id": "563PcQlqZSFX"
      },
      "source": [
        "# 回答"
      ],
      "execution_count": null,
      "outputs": []
    },
    {
      "cell_type": "code",
      "metadata": {
        "id": "6ij9x9461uDC"
      },
      "source": [
        "# 省略"
      ],
      "execution_count": null,
      "outputs": []
    },
    {
      "cell_type": "markdown",
      "metadata": {
        "id": "6RKZsWxPz6kz"
      },
      "source": [
        "以上。\n"
      ]
    }
  ]
}
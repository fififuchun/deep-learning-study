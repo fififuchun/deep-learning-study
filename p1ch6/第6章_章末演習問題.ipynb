{
  "nbformat": 4,
  "nbformat_minor": 0,
  "metadata": {
    "kernelspec": {
      "display_name": "Python 3",
      "language": "python",
      "name": "python3"
    },
    "language_info": {
      "codemirror_mode": {
        "name": "ipython",
        "version": 3
      },
      "file_extension": ".py",
      "mimetype": "text/x-python",
      "name": "python",
      "nbconvert_exporter": "python",
      "pygments_lexer": "ipython3",
      "version": "3.7.4"
    },
    "colab": {
      "name": "第6章_章末演習問題.ipynb",
      "provenance": [],
      "collapsed_sections": []
    }
  },
  "cells": [
    {
      "cell_type": "markdown",
      "metadata": {
        "id": "47Tvll5Hh6xK"
      },
      "source": [
        "# [1] 単純なニューラルネットワークモデルで隠れニューロンの数と学習率を実験してみてください。\n",
        "※ ここではGoogle Colaraboratoryでの実行を想定しています。\n",
        "\n",
        "※ Google Colaraboratoryでbashコマンドを実行するには、命令の前に!をつけます。"
      ]
    },
    {
      "cell_type": "markdown",
      "metadata": {
        "id": "gUSxCFRGh6xL"
      },
      "source": [
        "### （a）モデルからより線形な出力を得るにはどのような変更を行うといいのか確認してください。"
      ]
    },
    {
      "cell_type": "code",
      "metadata": {
        "id": "zTNNckhzh6xL"
      },
      "source": [
        "# 回答\n"
      ],
      "execution_count": 1,
      "outputs": []
    },
    {
      "cell_type": "markdown",
      "metadata": {
        "id": "42j0zWxYh6xl"
      },
      "source": [
        "### （b）モデルを明らかな過学習の状態にしてみてください\n"
      ]
    },
    {
      "cell_type": "code",
      "metadata": {
        "id": "ky4BEkoAh6xl"
      },
      "source": [
        "# 回答\n"
      ],
      "execution_count": 11,
      "outputs": []
    },
    {
      "cell_type": "markdown",
      "metadata": {
        "id": "k5opKHNoh6xn"
      },
      "source": [
        "# [2] 物理学で重要な問題は科学的発見成果を祝う際の適切なワインを見つけることです。第4章で使用したワインのデータを読み込み、適切な数の入力パラメータで新しいモデルを作成します。"
      ]
    },
    {
      "cell_type": "markdown",
      "metadata": {
        "id": "187LFwdph6yB"
      },
      "source": [
        "### （a）これまで使ってきた温度データと比較して、訓練にどれくらいの時間がかかるのか試してください"
      ]
    },
    {
      "cell_type": "code",
      "metadata": {
        "id": "IvG7Ijn8ifVw"
      },
      "source": [
        "# 回答"
      ],
      "execution_count": 18,
      "outputs": []
    },
    {
      "cell_type": "markdown",
      "metadata": {
        "id": "tqGF_7j-h6yB"
      },
      "source": [
        "### （b）訓練時間に差が出た理由はなぜでしょうか？"
      ]
    },
    {
      "cell_type": "code",
      "metadata": {
        "id": "-RnP_BIbikPF"
      },
      "source": [
        "# 回答"
      ],
      "execution_count": 28,
      "outputs": []
    },
    {
      "cell_type": "markdown",
      "metadata": {
        "id": "6ShKhIqbh6yC"
      },
      "source": [
        "### （c）このデータセットの訓練中に損失を減少させることができることを確認してください"
      ]
    },
    {
      "cell_type": "code",
      "metadata": {
        "id": "DP18o14NisqX"
      },
      "source": [
        "# 回答"
      ],
      "execution_count": 30,
      "outputs": []
    },
    {
      "cell_type": "markdown",
      "metadata": {
        "id": "1xyU0JBbh6yC"
      },
      "source": [
        "### （d）このデータセットをグラフ化する方法を確認してください"
      ]
    },
    {
      "cell_type": "code",
      "metadata": {
        "id": "ykEWFNtx1Qfb"
      },
      "source": [
        "# 回答"
      ],
      "execution_count": null,
      "outputs": []
    }
  ]
}
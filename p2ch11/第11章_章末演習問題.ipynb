{
 "cells": [
  {
   "cell_type": "markdown",
   "metadata": {
    "id": "WehYXzWpwhi1"
   },
   "source": [
    "### 第11章の章末演習問題"
   ]
  },
  {
   "cell_type": "markdown",
   "metadata": {
    "id": "lRoPRKcMwlbZ"
   },
   "source": [
    "### [1] LunaDatasetインスタンスをDataLoaderインスタンスでラップし、イテレーションの時間を計測してください。この時間を第10章の演習問題で計測した時間と比較してください。スクリプト実行時にキャッシュの状態に注意してください。\n",
    "\n",
    "※ ここではGoogle Colaraboratoryでの実行を想定しています。\n"
   ]
  },
  {
   "cell_type": "markdown",
   "metadata": {
    "id": "FSZC8BAJw9A-"
   },
   "source": [
    "#### （a）num_workersの値を 0, 1, 2と変えると結果はどう変わりますか?"
   ]
  },
  {
   "cell_type": "code",
   "execution_count": null,
   "metadata": {
    "id": "kduB0LXvxL0b"
   },
   "outputs": [],
   "source": [
    "# 回答"
   ]
  },
  {
   "cell_type": "markdown",
   "metadata": {
    "id": "YO24ioODyKtO"
   },
   "source": [
    "#### （b）コンピュータがメモリを使い切らずに対応できるbatch_sizeとnum_workersの最大の組み合わせを探して下さい。"
   ]
  },
  {
   "cell_type": "code",
   "execution_count": null,
   "metadata": {
    "id": "U_7dlCScyWYr"
   },
   "outputs": [],
   "source": [
    "# 回答"
   ]
  },
  {
   "cell_type": "markdown",
   "metadata": {
    "id": "EdWttSfHzGKz"
   },
   "source": [
    "### [2] `candidateInfo_list`の順番を反転してください。訓練を1エポック行った後のモデルはどう変わりますか?"
   ]
  },
  {
   "cell_type": "code",
   "execution_count": null,
   "metadata": {
    "id": "TKhok3I0_x0m"
   },
   "outputs": [],
   "source": [
    "# 回答"
   ]
  },
  {
   "cell_type": "markdown",
   "metadata": {
    "id": "ke8SZZce_QZ3"
   },
   "source": [
    "### [3] `logMetrics`を変更して実行の命名規則とTensorBoardで用いられるキーを変えて下さい"
   ]
  },
  {
   "cell_type": "markdown",
   "metadata": {
    "id": "pYhHJG6d_efX"
   },
   "source": [
    "#### （a）writer.add_scalarに渡すキーのフォワードスラッシュ (/) の位置を変えて実験してみましょう。"
   ]
  },
  {
   "cell_type": "code",
   "execution_count": null,
   "metadata": {
    "id": "PJrAKRh__y4f"
   },
   "outputs": [],
   "source": [
    "# 回答"
   ]
  },
  {
   "cell_type": "markdown",
   "metadata": {
    "id": "DnhQT-uZ_emS"
   },
   "source": [
    "#### （b）訓練と検証に同じ`SummaryWriter`のインスタンスを使い、キー名に`trn`か`val`の文字列を追加しましょう。"
   ]
  },
  {
   "cell_type": "code",
   "execution_count": null,
   "metadata": {
    "id": "g3Lzdw0F_zx7"
   },
   "outputs": [],
   "source": [
    "# 回答"
   ]
  },
  {
   "cell_type": "markdown",
   "metadata": {
    "id": "_aTolYyL_eu6"
   },
   "source": [
    "#### （c）ログディレクトリの名前とキーを任意に変えてみましょう。"
   ]
  },
  {
   "cell_type": "code",
   "execution_count": null,
   "metadata": {
    "id": "GWBWNKXZ_0eT"
   },
   "outputs": [],
   "source": [
    "# 回答"
   ]
  },
  {
   "cell_type": "markdown",
   "metadata": {
    "id": "6RKZsWxPz6kz"
   },
   "source": [
    "以上。\n"
   ]
  }
 ],
 "metadata": {
  "colab": {
   "collapsed_sections": [],
   "name": "第11章_章末演習問題.ipynb",
   "provenance": []
  },
  "kernelspec": {
   "display_name": "Python 3",
   "language": "python",
   "name": "python3"
  },
  "language_info": {
   "codemirror_mode": {
    "name": "ipython",
    "version": 3
   },
   "file_extension": ".py",
   "mimetype": "text/x-python",
   "name": "python",
   "nbconvert_exporter": "python",
   "pygments_lexer": "ipython3",
   "version": "3.8.0"
  }
 },
 "nbformat": 4,
 "nbformat_minor": 4
}

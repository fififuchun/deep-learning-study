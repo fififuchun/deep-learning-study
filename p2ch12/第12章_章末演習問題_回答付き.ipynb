{
 "cells": [
  {
   "cell_type": "markdown",
   "metadata": {
    "id": "WehYXzWpwhi1"
   },
   "source": [
    "### 第12章の章末演習問題"
   ]
  },
  {
   "cell_type": "markdown",
   "metadata": {
    "id": "lRoPRKcMwlbZ"
   },
   "source": [
    "### [1] F1スコアは一般化することができます\n",
    "\n",
    "※ ここではGoogle Colaraboratoryでの実行を想定しています。\n"
   ]
  },
  {
   "cell_type": "markdown",
   "metadata": {
    "id": "FSZC8BAJw9A-"
   },
   "source": [
    "#### （a）https://en.wikipedia.org/wiki/F1_score を参照してF2スコアとF0.5スコアを実装してください。"
   ]
  },
  {
   "cell_type": "code",
   "execution_count": 1,
   "metadata": {
    "id": "kduB0LXvxL0b"
   },
   "outputs": [],
   "source": [
    "# 回答"
   ]
  },
  {
   "cell_type": "code",
   "execution_count": 2,
   "metadata": {},
   "outputs": [],
   "source": [
    "# Fベータスコアとして一般化します。\n",
    "# F2 スコアの場合は beta = 2.0\n",
    "# F0.5 スコアの場合は beta = 0.5\n",
    "# としてください\n",
    "def fbeta_score(precision, recall, beta=1.0):\n",
    "    return (1 + beta**2) * (precision*recall) / (beta**2*precision + recall)"
   ]
  },
  {
   "cell_type": "markdown",
   "metadata": {
    "id": "YO24ioODyKtO"
   },
   "source": [
    "#### （b）このプロジェクトではF1スコア、F2スコア、F0.5スコアのどれが適切でしょうか? 値を求めてF1スコアと比較してください"
   ]
  },
  {
   "cell_type": "code",
   "execution_count": null,
   "metadata": {
    "id": "U_7dlCScyWYr"
   },
   "outputs": [],
   "source": [
    "# 回答"
   ]
  },
  {
   "cell_type": "markdown",
   "metadata": {},
   "source": [
    "ベータの値が大きくなるほど再現率が重視されます。\\\n",
    "本プロジェクトでは高い再現率が求められるので、F2スコアが適しています。\n",
    "\n",
    "図12.22の全オーギュメンテーションの最終エポックを例に取り、\\\n",
    "適合率が0.15、再現率が0.95とすると、F1スコアは0.26、F2スコアは0.46、F0.5スコアは0.18となります。"
   ]
  },
  {
   "cell_type": "markdown",
   "metadata": {
    "id": "EdWttSfHzGKz"
   },
   "source": [
    "### [2] `WeightedRandomSampler`を用いて`LunaDataset`の訓練セットの陽性サンプル数と陰性サンプル数のバランスを取って下さい。この時`ratio_int`を`0`にしてください。"
   ]
  },
  {
   "cell_type": "markdown",
   "metadata": {
    "id": "9yzctZuLzODR"
   },
   "source": [
    "#### （a）各サンプルが属しているクラスをどうやって調べましたか?"
   ]
  },
  {
   "cell_type": "code",
   "execution_count": null,
   "metadata": {
    "id": "DFq3TaQBy-ZE"
   },
   "outputs": [],
   "source": [
    "# 回答"
   ]
  },
  {
   "cell_type": "markdown",
   "metadata": {},
   "source": [
    "`candidates.csv` から各サンプルのクラスを知ることができます。"
   ]
  },
  {
   "cell_type": "markdown",
   "metadata": {
    "id": "OBEZN-2gzy-P"
   },
   "source": [
    "#### （b）本章で取った方法と比べ、どちらが簡単でしたか。どちらが読みやすいコードでしたか?"
   ]
  },
  {
   "cell_type": "code",
   "execution_count": null,
   "metadata": {
    "id": "4e-l9C2S5Ihj"
   },
   "outputs": [],
   "source": [
    "# 回答"
   ]
  },
  {
   "cell_type": "markdown",
   "metadata": {},
   "source": [
    "省略"
   ]
  },
  {
   "cell_type": "markdown",
   "metadata": {
    "id": "EdWttSfHzGKz"
   },
   "source": [
    "### [3] クラスバランスを取る他の方法を実験してください。"
   ]
  },
  {
   "cell_type": "markdown",
   "metadata": {
    "id": "9yzctZuLzODR"
   },
   "source": [
    "#### （a）2エポック終了後に最もよいスコアを出したクラス比率はいくつでしたか? 20エポックの時はどうでしたか?"
   ]
  },
  {
   "cell_type": "code",
   "execution_count": null,
   "metadata": {
    "id": "DFq3TaQBy-ZE"
   },
   "outputs": [],
   "source": [
    "# 回答"
   ]
  },
  {
   "cell_type": "markdown",
   "metadata": {},
   "source": [
    "`p2ch11/training.py` の `balanced` のパースから`action='store_true',`を削除することでコマンドライン引数から以下のようにクラス比率を指定することが出来ます。\n",
    "\n",
    "```\n",
    "python -m p2ch12.training --balanced 2 --epochs 2 --tb-prefix epoch02_bal2 --augmented --augment-flip --augment-offset --augment-scale --augment-rotate --augment-noise\n",
    "```"
   ]
  },
  {
   "cell_type": "markdown",
   "metadata": {
    "id": "OBEZN-2gzy-P"
   },
   "source": [
    "#### （b）クラス比率が`epoch_ndx`の関数の場合どうでしょうか?"
   ]
  },
  {
   "cell_type": "code",
   "execution_count": null,
   "metadata": {
    "id": "4e-l9C2S5Ihj"
   },
   "outputs": [],
   "source": [
    "# 回答"
   ]
  },
  {
   "cell_type": "markdown",
   "metadata": {},
   "source": [
    "省略"
   ]
  },
  {
   "cell_type": "markdown",
   "metadata": {
    "id": "EdWttSfHzGKz"
   },
   "source": [
    "### [4] 他のデータオーギュメンテーションを実験してください。"
   ]
  },
  {
   "cell_type": "markdown",
   "metadata": {
    "id": "9yzctZuLzODR"
   },
   "source": [
    "#### （a）紹介した手法の変化量を強めることができますか (ノイズ、オフセットなど)?"
   ]
  },
  {
   "cell_type": "code",
   "execution_count": null,
   "metadata": {
    "id": "DFq3TaQBy-ZE"
   },
   "outputs": [],
   "source": [
    "# 回答"
   ]
  },
  {
   "cell_type": "markdown",
   "metadata": {},
   "source": [
    "水平移動のオフセット量、拡大縮小率、ノイズ強度はコマンドライン引数で調整できます。"
   ]
  },
  {
   "cell_type": "markdown",
   "metadata": {
    "id": "OBEZN-2gzy-P"
   },
   "source": [
    "#### （b）ノイズオーギュメンテーションは訓練の役に立ちますか、妨げとなりますか?\n",
    "- ノイズの強度を変えると結果が変わりましたか?"
   ]
  },
  {
   "cell_type": "code",
   "execution_count": null,
   "metadata": {
    "id": "4e-l9C2S5Ihj"
   },
   "outputs": [],
   "source": [
    "# 回答"
   ]
  },
  {
   "cell_type": "markdown",
   "metadata": {},
   "source": [
    "本章の訓練においてはノイズの強度を強めると性能が悪化しますが、訓練の妨げになるとは一概には言えません。\\\n",
    "ノイズを付加すると訓練が難しくなる一方でモデルがロバストになる、過剰適合しにくくなるといった効果があります。\\\n",
    "実運用の際に入力されるデータが訓練データよりもノイズを多く含むようなケースではノイズオーギュメンテーションが有効に機能するでしょう。"
   ]
  },
  {
   "cell_type": "markdown",
   "metadata": {
    "id": "OBEZN-2gzy-P"
   },
   "source": [
    "#### （c）他のプロジェクトで使われたオーギュメンテーションを調べてください。適用できそうなものはありますか?\n",
    "- “mixup”オーギュメンテーション実装し陽性サンプルに適用してください。精度は上がりましたか?"
   ]
  },
  {
   "cell_type": "code",
   "execution_count": null,
   "metadata": {
    "id": "4e-l9C2S5Ihj"
   },
   "outputs": [],
   "source": [
    "# 回答"
   ]
  },
  {
   "cell_type": "markdown",
   "metadata": {},
   "source": [
    "2つの訓練サンプルをブレンドする mixup 以外に画像の輝度、彩度、色相、コントラストに変化を加えるオーギュメンテーションなどがあります。"
   ]
  },
  {
   "cell_type": "markdown",
   "metadata": {
    "id": "EdWttSfHzGKz"
   },
   "source": [
    "### [5] 最初の正規化を`nn.BatchNorm`から他の方法へ変えてモデルを再訓練してください。"
   ]
  },
  {
   "cell_type": "markdown",
   "metadata": {
    "id": "9yzctZuLzODR"
   },
   "source": [
    "#### （a）固定値による正規化で結果は改善しますか?"
   ]
  },
  {
   "cell_type": "code",
   "execution_count": null,
   "metadata": {
    "id": "DFq3TaQBy-ZE"
   },
   "outputs": [],
   "source": [
    "# 回答"
   ]
  },
  {
   "cell_type": "markdown",
   "metadata": {},
   "source": [
    "省略"
   ]
  },
  {
   "cell_type": "markdown",
   "metadata": {
    "id": "OBEZN-2gzy-P"
   },
   "source": [
    "#### （b）効果があった正規化のオフセットとスケールの値はいくつですか?"
   ]
  },
  {
   "cell_type": "code",
   "execution_count": null,
   "metadata": {
    "id": "4e-l9C2S5Ihj"
   },
   "outputs": [],
   "source": [
    "# 回答"
   ]
  },
  {
   "cell_type": "markdown",
   "metadata": {},
   "source": [
    "省略"
   ]
  },
  {
   "cell_type": "markdown",
   "metadata": {
    "id": "OBEZN-2gzy-P"
   },
   "source": [
    "#### （c）平方根などの非線形正規化は効果がありますか?"
   ]
  },
  {
   "cell_type": "code",
   "execution_count": null,
   "metadata": {
    "id": "4e-l9C2S5Ihj"
   },
   "outputs": [],
   "source": [
    "# 回答"
   ]
  },
  {
   "cell_type": "markdown",
   "metadata": {},
   "source": [
    "省略"
   ]
  },
  {
   "cell_type": "markdown",
   "metadata": {
    "id": "EdWttSfHzGKz"
   },
   "source": [
    "### [6] 本章で紹介したデータ以外にどのようなデータをTensorBoardで表示できますか "
   ]
  },
  {
   "cell_type": "markdown",
   "metadata": {
    "id": "9yzctZuLzODR"
   },
   "source": [
    "#### （a）ネットワークの重みに関する情報を表示できますか?"
   ]
  },
  {
   "cell_type": "code",
   "execution_count": null,
   "metadata": {
    "id": "DFq3TaQBy-ZE"
   },
   "outputs": [],
   "source": [
    "# 回答"
   ]
  },
  {
   "cell_type": "markdown",
   "metadata": {},
   "source": [
    "例えば畳み込み層の重みは `self.model.block1.conv1.weight` のように`weight` 属性で値を得ることができます。\\\n",
    "これを画像として TensorBoard に出力することで、重みを可視化することができます。"
   ]
  },
  {
   "cell_type": "markdown",
   "metadata": {
    "id": "OBEZN-2gzy-P"
   },
   "source": [
    "#### （b）あるサンプルを入力したときのモデルの途中出力を表示できますか?\n",
    "- ネットワークの主要部の実装に `nn.Sequential` を使うと簡単になりますか、難しくなりますか?"
   ]
  },
  {
   "cell_type": "code",
   "execution_count": null,
   "metadata": {
    "id": "4e-l9C2S5Ihj"
   },
   "outputs": [],
   "source": [
    "# 回答"
   ]
  },
  {
   "cell_type": "markdown",
   "metadata": {},
   "source": [
    "隠れ層の出力をTensorBoardに出力することで可視化が可能です。\\\n",
    "`nn.Sequential` を用いない場合は各層の出力を変数に代入することができるので、\\\n",
    "本演習の目的のためには `nn.Sequential` を使わない方が良いでしょう。"
   ]
  },
  {
   "cell_type": "markdown",
   "metadata": {
    "id": "6RKZsWxPz6kz"
   },
   "source": [
    "以上。\n"
   ]
  }
 ],
 "metadata": {
  "colab": {
   "collapsed_sections": [],
   "name": "第2章_章末演習問題.ipynb",
   "provenance": []
  },
  "kernelspec": {
   "display_name": "Python 3",
   "language": "python",
   "name": "python3"
  },
  "language_info": {
   "codemirror_mode": {
    "name": "ipython",
    "version": 3
   },
   "file_extension": ".py",
   "mimetype": "text/x-python",
   "name": "python",
   "nbconvert_exporter": "python",
   "pygments_lexer": "ipython3",
   "version": "3.6.9"
  }
 },
 "nbformat": 4,
 "nbformat_minor": 4
}

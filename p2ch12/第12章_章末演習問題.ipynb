{
 "cells": [
  {
   "cell_type": "markdown",
   "metadata": {
    "id": "WehYXzWpwhi1"
   },
   "source": [
    "### 第12章の章末演習問題"
   ]
  },
  {
   "cell_type": "markdown",
   "metadata": {
    "id": "lRoPRKcMwlbZ"
   },
   "source": [
    "### [1] F1スコアは一般化することができます\n",
    "\n",
    "※ ここではGoogle Colaraboratoryでの実行を想定しています。\n"
   ]
  },
  {
   "cell_type": "markdown",
   "metadata": {
    "id": "FSZC8BAJw9A-"
   },
   "source": [
    "#### （a）https://en.wikipedia.org/wiki/F1_score を参照してF2スコアとF0.5スコアを実装してください。"
   ]
  },
  {
   "cell_type": "code",
   "execution_count": 1,
   "metadata": {
    "id": "kduB0LXvxL0b"
   },
   "outputs": [],
   "source": [
    "# 回答"
   ]
  },
  {
   "cell_type": "markdown",
   "metadata": {
    "id": "YO24ioODyKtO"
   },
   "source": [
    "#### （b）このプロジェクトではF1スコア、F2スコア、F0.5スコアのどれが適切でしょうか? 値を求めてF1スコアと比較してください"
   ]
  },
  {
   "cell_type": "code",
   "execution_count": null,
   "metadata": {
    "id": "U_7dlCScyWYr"
   },
   "outputs": [],
   "source": [
    "# 回答"
   ]
  },
  {
   "cell_type": "markdown",
   "metadata": {
    "id": "EdWttSfHzGKz"
   },
   "source": [
    "### [2] `WeightedRandomSampler`を用いて`LunaDataset`の訓練セットの陽性サンプル数と陰性サンプル数のバランスを取って下さい。この時`ratio_int`を`0`にしてください。"
   ]
  },
  {
   "cell_type": "markdown",
   "metadata": {
    "id": "9yzctZuLzODR"
   },
   "source": [
    "#### （a）各サンプルが属しているクラスをどうやって調べましたか?"
   ]
  },
  {
   "cell_type": "code",
   "execution_count": null,
   "metadata": {
    "id": "DFq3TaQBy-ZE"
   },
   "outputs": [],
   "source": [
    "# 回答"
   ]
  },
  {
   "cell_type": "markdown",
   "metadata": {
    "id": "OBEZN-2gzy-P"
   },
   "source": [
    "#### （b）本章で取った方法と比べ、どちらが簡単でしたか。どちらが読みやすいコードでしたか?"
   ]
  },
  {
   "cell_type": "code",
   "execution_count": null,
   "metadata": {
    "id": "4e-l9C2S5Ihj"
   },
   "outputs": [],
   "source": [
    "# 回答"
   ]
  },
  {
   "cell_type": "markdown",
   "metadata": {
    "id": "EdWttSfHzGKz"
   },
   "source": [
    "### [3] クラスバランスを取る他の方法を試して下さい"
   ]
  },
  {
   "cell_type": "markdown",
   "metadata": {
    "id": "9yzctZuLzODR"
   },
   "source": [
    "#### （a）2エポック終了後に最もよいスコアを出したクラス比率はいくつでしたか? 20エポックの時はどうでしたか?"
   ]
  },
  {
   "cell_type": "code",
   "execution_count": null,
   "metadata": {
    "id": "DFq3TaQBy-ZE"
   },
   "outputs": [],
   "source": [
    "# 回答"
   ]
  },
  {
   "cell_type": "markdown",
   "metadata": {
    "id": "OBEZN-2gzy-P"
   },
   "source": [
    "#### （b）クラス比率がepoch_ndxの関数の場合どうでしょうか?"
   ]
  },
  {
   "cell_type": "code",
   "execution_count": null,
   "metadata": {
    "id": "4e-l9C2S5Ihj"
   },
   "outputs": [],
   "source": [
    "# 回答"
   ]
  },
  {
   "cell_type": "markdown",
   "metadata": {
    "id": "EdWttSfHzGKz"
   },
   "source": [
    "### [4] 他のデータオーギュメンテーションを試して下さい"
   ]
  },
  {
   "cell_type": "markdown",
   "metadata": {
    "id": "9yzctZuLzODR"
   },
   "source": [
    "#### （a）紹介した手法の変化量を強めることができますか (ノイズ、オフセットなど)?"
   ]
  },
  {
   "cell_type": "code",
   "execution_count": null,
   "metadata": {
    "id": "DFq3TaQBy-ZE"
   },
   "outputs": [],
   "source": [
    "# 回答"
   ]
  },
  {
   "cell_type": "markdown",
   "metadata": {
    "id": "OBEZN-2gzy-P"
   },
   "source": [
    "#### （b）ノイズオーギュメンテーションは訓練の役に立ちますか、妨げとなりますか?\n",
    "- ノイズの強度を変えると結果が変わりましたか?"
   ]
  },
  {
   "cell_type": "code",
   "execution_count": null,
   "metadata": {
    "id": "4e-l9C2S5Ihj"
   },
   "outputs": [],
   "source": [
    "# 回答"
   ]
  },
  {
   "cell_type": "markdown",
   "metadata": {
    "id": "OBEZN-2gzy-P"
   },
   "source": [
    "#### （c）他のプロジェクトで使われたオーギュメンテーションを調べてください。適用できそうなものはありますか?\n",
    "- “mixup”オーギュメンテーション実装し陽性サンプルに適用してください。精度は上がりましたか?"
   ]
  },
  {
   "cell_type": "code",
   "execution_count": null,
   "metadata": {
    "id": "4e-l9C2S5Ihj"
   },
   "outputs": [],
   "source": [
    "# 回答"
   ]
  },
  {
   "cell_type": "markdown",
   "metadata": {
    "id": "EdWttSfHzGKz"
   },
   "source": [
    "### [5] 最初の正規化を`nn.BatchNorm`から他の方法へ変えてモデルを再訓練してください。"
   ]
  },
  {
   "cell_type": "markdown",
   "metadata": {
    "id": "9yzctZuLzODR"
   },
   "source": [
    "#### （a）固定値による正規化で結果は改善しますか?"
   ]
  },
  {
   "cell_type": "code",
   "execution_count": null,
   "metadata": {
    "id": "DFq3TaQBy-ZE"
   },
   "outputs": [],
   "source": [
    "# 回答"
   ]
  },
  {
   "cell_type": "markdown",
   "metadata": {
    "id": "OBEZN-2gzy-P"
   },
   "source": [
    "#### （b）効果があった正規化のオフセットとスケールの値はいくつですか?"
   ]
  },
  {
   "cell_type": "code",
   "execution_count": null,
   "metadata": {
    "id": "4e-l9C2S5Ihj"
   },
   "outputs": [],
   "source": [
    "# 回答"
   ]
  },
  {
   "cell_type": "markdown",
   "metadata": {
    "id": "OBEZN-2gzy-P"
   },
   "source": [
    "#### （c）平方根などの非線形正規化は効果がありますか?"
   ]
  },
  {
   "cell_type": "code",
   "execution_count": null,
   "metadata": {
    "id": "4e-l9C2S5Ihj"
   },
   "outputs": [],
   "source": [
    "# 回答"
   ]
  },
  {
   "cell_type": "markdown",
   "metadata": {
    "id": "EdWttSfHzGKz"
   },
   "source": [
    "### [6] 本章で紹介したデータ以外にどのようなデータをTensorBoardで表示できますか "
   ]
  },
  {
   "cell_type": "markdown",
   "metadata": {
    "id": "9yzctZuLzODR"
   },
   "source": [
    "#### （a）ネットワークの重みに関する情報を表示できますか?"
   ]
  },
  {
   "cell_type": "code",
   "execution_count": null,
   "metadata": {
    "id": "DFq3TaQBy-ZE"
   },
   "outputs": [],
   "source": [
    "# 回答"
   ]
  },
  {
   "cell_type": "markdown",
   "metadata": {
    "id": "OBEZN-2gzy-P"
   },
   "source": [
    "#### （b）あるサンプルを入力したときのモデルの途中出力を表示できますか?\n",
    "- ネットワークの主要部の実装に `nn.Sequential` を使うと簡単になりますか、難しくなりますか?"
   ]
  },
  {
   "cell_type": "code",
   "execution_count": null,
   "metadata": {
    "id": "4e-l9C2S5Ihj"
   },
   "outputs": [],
   "source": [
    "# 回答"
   ]
  },
  {
   "cell_type": "markdown",
   "metadata": {
    "id": "6RKZsWxPz6kz"
   },
   "source": [
    "以上。\n"
   ]
  }
 ],
 "metadata": {
  "colab": {
   "collapsed_sections": [],
   "name": "第2章_章末演習問題.ipynb",
   "provenance": []
  },
  "kernelspec": {
   "display_name": "Python 3",
   "language": "python",
   "name": "python3"
  },
  "language_info": {
   "codemirror_mode": {
    "name": "ipython",
    "version": 3
   },
   "file_extension": ".py",
   "mimetype": "text/x-python",
   "name": "python",
   "nbconvert_exporter": "python",
   "pygments_lexer": "ipython3",
   "version": "3.8.0"
  }
 },
 "nbformat": 4,
 "nbformat_minor": 4
}

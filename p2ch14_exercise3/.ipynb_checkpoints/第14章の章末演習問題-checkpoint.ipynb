{
 "cells": [
  {
   "cell_type": "markdown",
   "metadata": {},
   "source": [
    "### 第14章の章末演習問題\n",
    "※ ここではGoogle Colaraboratoryでの実行を想定しています。\n",
    "\n",
    "※ Google Colaraboratoryでbashコマンドを実行するには、命令の前に!をつけます。"
   ]
  },
  {
   "attachments": {},
   "cell_type": "markdown",
   "metadata": {},
   "source": [
    "## [1] 分類用のテストセットを実装するか、第13章の演習のテストセットを再利用してください。検証セットを使用して訓練中に最適なエポックを選択しますが、テストセットを使用してエンドツーエンドのプロジェクトを評価します。この時、 検証セットの性能は、テストセットの性能とどの程度一致していますか。"
   ]
  },
  {
   "attachments": {},
   "cell_type": "markdown",
   "metadata": {},
   "source": [
    "## [2] 非結節、良性結節、悪性腫瘍を一度に区別して三分類ができる単一のモデルを訓練できますか。"
   ]
  },
  {
   "attachments": {},
   "cell_type": "markdown",
   "metadata": {},
   "source": [
    "### (a) 訓練に最適なクラスバランスの分け方はどうなりますか。"
   ]
  },
  {
   "attachments": {},
   "cell_type": "markdown",
   "metadata": {},
   "source": [
    "### (b) このように一度に分類を行うモデルは、本書の中で使用している2段階のアプローチと比較して、どのような性能を発揮するのでしょうか。"
   ]
  },
  {
   "attachments": {},
   "cell_type": "markdown",
   "metadata": {},
   "source": [
    "## [3] 今回はアノテーション付きのデータで分類器を訓練しましたが、セグメンテーションの出力でそれが実行されることを期待しています。セグメンテーションモデルを使用して、提供された非結節の代わりに、トレーニング中に使用する非結節のリストを作成してください。"
   ]
  },
  {
   "attachments": {},
   "cell_type": "markdown",
   "metadata": {},
   "source": [
    "### (a) この新しいセットで訓練すると、分類モデルの性能は向上しますか。"
   ]
  },
  {
   "attachments": {},
   "cell_type": "markdown",
   "metadata": {},
   "source": [
    "### (b) どのような種類の結節候補が、新しく訓練されたモデルで最も大きな変化を示しますか。"
   ]
  },
  {
   "attachments": {},
   "cell_type": "markdown",
   "metadata": {},
   "source": [
    "## [4] 今回使用したパディング付き畳み込みは、画像の端の近くで完全な情報が得られません。CTスキャンスライスのエッジ近くのセグメント化されたピクセルとスライスの内側のピクセルの損失を計算してください。2つの間に測定可能な違いはありますか。"
   ]
  },
  {
   "attachments": {},
   "cell_type": "markdown",
   "metadata": {},
   "source": [
    "## [5] 32 × 48 × 48のパッチを重ね合わせて、CT全体に対して分類器を実行してみてください。これはセグメンテーションアプローチと比較してどうなりますか。"
   ]
  },
  {
   "cell_type": "code",
   "execution_count": null,
   "metadata": {},
   "outputs": [],
   "source": []
  }
 ],
 "metadata": {
  "kernelspec": {
   "display_name": "Python 3",
   "language": "python",
   "name": "python3"
  },
  "language_info": {
   "codemirror_mode": {
    "name": "ipython",
    "version": 3
   },
   "file_extension": ".py",
   "mimetype": "text/x-python",
   "name": "python",
   "nbconvert_exporter": "python",
   "pygments_lexer": "ipython3",
   "version": "3.7.4"
  }
 },
 "nbformat": 4,
 "nbformat_minor": 4
}

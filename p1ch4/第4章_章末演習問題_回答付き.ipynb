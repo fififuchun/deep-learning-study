{
  "nbformat": 4,
  "nbformat_minor": 0,
  "metadata": {
    "colab": {
      "name": "第4章_章末演習問題_回答付き.ipynb",
      "provenance": [],
      "collapsed_sections": []
    },
    "kernelspec": {
      "name": "python3",
      "display_name": "Python 3"
    }
  },
  "cells": [
    {
      "cell_type": "markdown",
      "metadata": {
        "id": "WehYXzWpwhi1"
      },
      "source": [
        "第4章の章末演習問題"
      ]
    },
    {
      "cell_type": "markdown",
      "metadata": {
        "id": "lRoPRKcMwlbZ"
      },
      "source": [
        "### [1] 携帯電話やデジタルカメラで、赤、青、緑の物体の写真を何枚か撮りましょう（カメラがない場合は、インターネットからダウンロードすることもできます）。\n",
        "※ ここではGoogle Colaraboratoryでの実行を想定しています。\n"
      ]
    },
    {
      "cell_type": "markdown",
      "metadata": {
        "id": "YnFAcuysEQDq"
      },
      "source": [
        "※本フォルダに、無料写真素材　写真AC（商用利用可）のデータを配置しています。\n",
        "\n",
        "apple.jpg、sky.jpg、forest.jpg\n",
        "\n",
        "\n",
        "https://www.photo-ac.com/main/detail/345453?title=%E3%83%AA%E3%83%B3%E3%82%B4&searchId=68658080\n",
        "\n",
        "https://www.photo-ac.com/main/detail/3343123?title=%E3%81%99%E3%81%A3%E3%81%8D%E3%82%8A%E6%99%B4%E3%82%8C%E3%82%84%E3%81%8B%E3%81%AA%E5%A4%8F%E3%81%AE%E7%A9%BA&searchId=68660407\n",
        "\n",
        "https://www.photo-ac.com/main/detail/3518379?title=%E6%A8%B9%E6%9C%A8_%E6%A3%AE%E6%9E%97_3&searchId=68662146\n",
        "\n"
      ]
    },
    {
      "cell_type": "markdown",
      "metadata": {
        "id": "FSZC8BAJw9A-"
      },
      "source": [
        "#### （a）各画像を読み込み、テンソルに変換してください。"
      ]
    },
    {
      "cell_type": "code",
      "metadata": {
        "id": "kduB0LXvxL0b"
      },
      "source": [
        "# 回答"
      ],
      "execution_count": null,
      "outputs": []
    },
    {
      "cell_type": "code",
      "metadata": {
        "id": "WNLfhqkkdhHw"
      },
      "source": [
        "import numpy as np\n",
        "import torch \n",
        "\n",
        "# Google Colaboratoryの場合\n",
        "# /章末の演習問題/apple.jpgを選択・アップロードしてください\n",
        "# /章末の演習問題/sky.jpgを選択・アップロードしてください\n",
        "# /章末の演習問題/forest.jpgを選択・アップロードしてください\n",
        "\n",
        "from google.colab import files\n",
        "uploade = files.upload()"
      ],
      "execution_count": null,
      "outputs": []
    },
    {
      "cell_type": "code",
      "metadata": {
        "id": "7_di9tjOFzMn"
      },
      "source": [
        "uploade = files.upload()"
      ],
      "execution_count": null,
      "outputs": []
    },
    {
      "cell_type": "code",
      "metadata": {
        "id": "mu8EJYDGF3WS"
      },
      "source": [
        "uploade = files.upload()"
      ],
      "execution_count": null,
      "outputs": []
    },
    {
      "cell_type": "code",
      "metadata": {
        "id": "3YOt0t6UGr6I"
      },
      "source": [
        "from PIL import Image\n",
        "\n",
        "file_name = \"apple.jpg\"\n",
        "img = Image.open(file_name)\n",
        "img"
      ],
      "execution_count": null,
      "outputs": []
    },
    {
      "cell_type": "code",
      "metadata": {
        "id": "9RcGOrIuF6Aa"
      },
      "source": [
        "import imageio\n",
        "\n",
        "file_name = \"apple.jpg\"\n",
        "img = imageio.imread(file_name)\n",
        "img_t = torch.from_numpy(img)\n",
        "img_t = img_t.permute(2, 0, 1)\n",
        "img_t = img_t[:3].float()\n",
        "print(img_t.shape)"
      ],
      "execution_count": null,
      "outputs": []
    },
    {
      "cell_type": "code",
      "metadata": {
        "id": "IgVoUZr3Hc5S"
      },
      "source": [
        "def convert_jpg_2_tensor(file_name):\n",
        "    img = imageio.imread(file_name)\n",
        "    img_t = torch.from_numpy(img)\n",
        "    img_t = img_t.permute(2, 0, 1)\n",
        "    img_t = img_t[:3].float()\n",
        "    return img_t\n",
        "\n",
        "file_name = \"forest.jpg\"\n",
        "img_forest_t = convert_jpg_2_tensor(file_name)\n",
        "print(img_forest_t.shape)"
      ],
      "execution_count": null,
      "outputs": []
    },
    {
      "cell_type": "code",
      "metadata": {
        "id": "XKGZmRZ7GXgy"
      },
      "source": [
        "file_name = \"sky.jpg\"\n",
        "img_sky_t = convert_jpg_2_tensor(file_name)\n",
        "print(img_sky_t.shape)"
      ],
      "execution_count": null,
      "outputs": []
    },
    {
      "cell_type": "markdown",
      "metadata": {
        "id": "YO24ioODyKtO"
      },
      "source": [
        "#### (b）各画像テンソルについて、.mean()メソッドを使用して、画像の明るさを求めてください。"
      ]
    },
    {
      "cell_type": "code",
      "metadata": {
        "id": "U_7dlCScyWYr"
      },
      "source": [
        "# 回答"
      ],
      "execution_count": null,
      "outputs": []
    },
    {
      "cell_type": "code",
      "metadata": {
        "id": "9dB_TJgpfSXw"
      },
      "source": [
        "file_name = \"apple.jpg\"\n",
        "img_apple_t = convert_jpg_2_tensor(file_name)\n",
        "print(img_apple_t.shape)"
      ],
      "execution_count": null,
      "outputs": []
    },
    {
      "cell_type": "code",
      "metadata": {
        "id": "nIaibRlQIcrr"
      },
      "source": [
        "print(img_apple_t.mean())\n",
        "print(img_forest_t.mean())\n",
        "print(img_sky_t.mean())\n"
      ],
      "execution_count": null,
      "outputs": []
    },
    {
      "cell_type": "markdown",
      "metadata": {
        "id": "y6rfvnbqJloe"
      },
      "source": [
        "#### （c）各画像の各チャンネルの平均を取ってください。求めたチャンネルの平均値だけから、赤、緑、青の物体を識別できるか確認してください。"
      ]
    },
    {
      "cell_type": "code",
      "metadata": {
        "id": "lExrJdBkCPGy"
      },
      "source": [
        "# 回答"
      ],
      "execution_count": null,
      "outputs": []
    },
    {
      "cell_type": "code",
      "metadata": {
        "id": "61eCtTobIcyS"
      },
      "source": [
        "print(img_apple_t.mean(dim=1).mean(dim=1))\n",
        "print(img_forest_t.mean(dim=1).mean(dim=1))\n",
        "print(img_sky_t.mean(dim=1).mean(dim=1))\n",
        "\n",
        "# appleの最大値はRチャネル、forestの最大値はGチャネル、skyの最大値はBチャネルとなっている"
      ],
      "execution_count": null,
      "outputs": []
    },
    {
      "cell_type": "markdown",
      "metadata": {
        "id": "EdWttSfHzGKz"
      },
      "source": [
        "### [2] Pythonのソースコードを含む比較的大きなファイルを用意してください。\n",
        "\n",
        "※https://github.com/YutaroOgawa/pytorch_advanced/blob/master/1_image_classification/utils/dataloader_image_classification.py\n",
        "\n",
        "をフォルダ内に用意しています。\n"
      ]
    },
    {
      "cell_type": "markdown",
      "metadata": {
        "id": "9yzctZuLzODR"
      },
      "source": [
        "#### （a）ソースファイル内のすべての単語のインデックスを作成してください (トークン化はシンプルにしても複雑にしても構いません。 最初は正規表現r\"[^a-zA-Z0-9_]+\"とスペースで、単語を一度置き換えることをおすすめします)。"
      ]
    },
    {
      "cell_type": "code",
      "metadata": {
        "id": "DFq3TaQBy-ZE"
      },
      "source": [
        "# 回答\n"
      ],
      "execution_count": null,
      "outputs": []
    },
    {
      "cell_type": "code",
      "metadata": {
        "id": "z_TOyz3vZq2y"
      },
      "source": [
        "# Google Colaboratoryの場合\n",
        "# /章末の演習問題/dataloader_image_classification.pyを選択・アップロードしてください\n",
        "from google.colab import files\n",
        "uploade = files.upload()\n",
        "\n",
        "with open('dataloader_image_classification.py', encoding='utf8') as f:\n",
        "    text = f.read()"
      ],
      "execution_count": null,
      "outputs": []
    },
    {
      "cell_type": "code",
      "metadata": {
        "id": "Uir8S3tLaLjq"
      },
      "source": [
        "# 正規表現で抽出\n",
        "import re\n",
        "words_in_file = re.findall(r\"[a-zA-Z0-9_]+\", text)\n",
        "\n",
        "print(words_in_file)\n"
      ],
      "execution_count": null,
      "outputs": []
    },
    {
      "cell_type": "code",
      "metadata": {
        "id": "AInZfNavckvI"
      },
      "source": [
        "# 重複を消し、並び替える\n",
        "word_list = list(set(words_in_file))\n",
        "word_list = sorted(word_list)\n",
        "\n"
      ],
      "execution_count": null,
      "outputs": []
    },
    {
      "cell_type": "code",
      "metadata": {
        "id": "HHMvlnlLcsbW"
      },
      "source": [
        "print(word_list)\n",
        "print(len(word_list))"
      ],
      "execution_count": null,
      "outputs": []
    },
    {
      "cell_type": "code",
      "metadata": {
        "id": "QhbWP3spctQ2"
      },
      "source": [
        "# インデックス化\n",
        "word2index_dict = {word: i for (i, word) in enumerate(word_list)}\n",
        "\n",
        "print(len(word2index_dict))\n"
      ],
      "execution_count": null,
      "outputs": []
    },
    {
      "cell_type": "markdown",
      "metadata": {
        "id": "OBEZN-2gzy-P"
      },
      "source": [
        "#### （b）本章の「高慢と偏見」で作ったインデックスと比較してみてください。どちらの方がサイズは大きいですか？"
      ]
    },
    {
      "cell_type": "code",
      "metadata": {
        "id": "4e-l9C2S5Ihj"
      },
      "source": [
        "# 回答"
      ],
      "execution_count": null,
      "outputs": []
    },
    {
      "cell_type": "code",
      "metadata": {
        "id": "OaU5OKRqfkMg"
      },
      "source": [
        "# 「高慢と偏見」で作ったインデックスで、len(word2index_dict)は7261種類の単語があった。\n",
        "# 今回は、90種類のみ\n",
        "#  前回の方がサイズは大きい"
      ],
      "execution_count": null,
      "outputs": []
    },
    {
      "cell_type": "markdown",
      "metadata": {
        "id": "Ei2PjV2b1pVy"
      },
      "source": [
        "#### （c）ソースコードファイルのワンホットエンコーディングを作成してください。"
      ]
    },
    {
      "cell_type": "code",
      "metadata": {
        "id": "6ij9x9461uDC"
      },
      "source": [
        "# 回答"
      ],
      "execution_count": null,
      "outputs": []
    },
    {
      "cell_type": "code",
      "metadata": {
        "id": "DGNSMI2wm8Tc"
      },
      "source": [
        "# 辞書化\n",
        "word_t = torch.zeros(len(words_in_file), len(word2index_dict))\n",
        "for i, word in enumerate(words_in_file):\n",
        "    word_index = word2index_dict[word]\n",
        "    word_t[i][word_index] = 1\n",
        "    print('{:2} {:4} {}'.format(i, word_index, word))\n",
        "    \n",
        "print(word_t.shape)\n"
      ],
      "execution_count": null,
      "outputs": []
    },
    {
      "cell_type": "code",
      "metadata": {
        "id": "hq0bQI3MgY2N"
      },
      "source": [
        "# 格納する空のテンソルを用意\n",
        "word_onehot_t = torch.zeros(word_t.shape[0], word_t.shape[1])\n",
        "print(word_onehot_t)\n",
        "print(word_onehot_t.shape)\n"
      ],
      "execution_count": null,
      "outputs": []
    },
    {
      "cell_type": "code",
      "metadata": {
        "id": "RV2ro2Gfm8hC"
      },
      "source": [
        "# words_in_fileの単語をindexに置き換える\n",
        "print(words_in_file)"
      ],
      "execution_count": null,
      "outputs": []
    },
    {
      "cell_type": "code",
      "metadata": {
        "id": "7dVXOVEknp4e"
      },
      "source": [
        "index_in_file_t = torch.zeros(len(words_in_file))\n",
        "print(index_in_file_t.shape)"
      ],
      "execution_count": null,
      "outputs": []
    },
    {
      "cell_type": "code",
      "metadata": {
        "id": "z7x00NXEoBQO"
      },
      "source": [
        "# 文字列をindex列に \n",
        "for i, word in enumerate(words_in_file):\n",
        "    word_index = word2index_dict[word]\n",
        "    index_in_file_t[i] = torch.tensor(word_index)\n",
        "\n",
        "# long型に\n",
        "index_in_file_t = index_in_file_t.long()\n",
        "\n",
        "print(index_in_file_t)\n",
        "print(index_in_file_t[0])\n",
        "print(index_in_file_t[0].dtype)"
      ],
      "execution_count": null,
      "outputs": []
    },
    {
      "cell_type": "code",
      "metadata": {
        "id": "wY3TXr1RrHaV"
      },
      "source": [
        "# ワンホットエンコーディングしたベクトルを作成\n",
        "word_onehot_t.scatter_(\n",
        "    dim=1, \n",
        "    index=index_in_file_t.unsqueeze(1),\n",
        "    value=1.0)\n",
        "\n",
        "print(word_onehot_t.shape)\n"
      ],
      "execution_count": null,
      "outputs": []
    },
    {
      "cell_type": "code",
      "metadata": {
        "id": "-zDRURkwsqt8"
      },
      "source": [
        "# ファイルの最初の単語はimport。インデックス番号は54。\n",
        "print(word_onehot_t[0])\n",
        "print(word_onehot_t[0][54])\n",
        "\n",
        "# 54番目だけ1になっている、ワンホットエンコーディング表現"
      ],
      "execution_count": null,
      "outputs": []
    },
    {
      "cell_type": "markdown",
      "metadata": {
        "id": "bT84rW88KnwC"
      },
      "source": [
        "#### （d）今回のエンコーディングで失われる情報は何でしょうか？本章での「高慢と偏見」のエンコーディングで失われた情報と比較してみてください。"
      ]
    },
    {
      "cell_type": "code",
      "metadata": {
        "id": "kgJ_bDJzKrcA"
      },
      "source": [
        "# 回答"
      ],
      "execution_count": null,
      "outputs": []
    },
    {
      "cell_type": "code",
      "metadata": {
        "id": "Xqu60yKps9Rh"
      },
      "source": [
        "#　省略"
      ],
      "execution_count": null,
      "outputs": []
    },
    {
      "cell_type": "markdown",
      "metadata": {
        "id": "6RKZsWxPz6kz"
      },
      "source": [
        "以上。\n"
      ]
    }
  ]
}
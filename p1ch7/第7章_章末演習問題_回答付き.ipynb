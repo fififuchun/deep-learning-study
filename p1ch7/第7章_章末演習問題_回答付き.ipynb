{
 "cells": [
  {
   "cell_type": "markdown",
   "metadata": {},
   "source": [
    "# [1] torchvisionを使ってランダムにクロップされたデータを実装してください。\n",
    "※ ここではGoogle Colaraboratoryでの実行を想定しています。\n",
    "\n",
    "※ Google Colaraboratoryでbashコマンドを実行するには、命令の前に!をつけます。"
   ]
  },
  {
   "cell_type": "markdown",
   "metadata": {},
   "source": [
    "## 【a】クロップ後の画像は、クロップされていない元の画像とどのように異なるのか確認してください"
   ]
  },
  {
   "cell_type": "code",
   "execution_count": 1,
   "metadata": {},
   "outputs": [],
   "source": [
    "# 回答\n",
    "# クロップ後の画像は引数で指定したサイズで元の画像からランダムに切り取られます(指定するサイズは元のサイズ以下にする)。\n",
    "# したがって、元画像とはサイズと画像に写っている部分が異なります。\n",
    "# ランダムクロップはtransforms.RandomCropを使用することで実現できます。\n",
    "# transforms.RandomCropを用いると引数に指定したサイズで（例：サイズ24の場合は24×24の画像）が元の画像からランダムに切り取られた画像が得られます。"
   ]
  },
  {
   "cell_type": "code",
   "execution_count": 20,
   "metadata": {},
   "outputs": [],
   "source": [
    "%matplotlib inline\n",
    "from matplotlib import pyplot as plt\n",
    "import numpy as np\n",
    "import torch\n",
    "\n",
    "from torchvision import datasets\n",
    "from torchvision import transforms"
   ]
  },
  {
   "cell_type": "code",
   "execution_count": 74,
   "metadata": {},
   "outputs": [
    {
     "data": {
      "text/plain": [
       "<torch._C.Generator at 0x12dd61f10>"
      ]
     },
     "execution_count": 74,
     "metadata": {},
     "output_type": "execute_result"
    }
   ],
   "source": [
    "torch.manual_seed(123)"
   ]
  },
  {
   "cell_type": "code",
   "execution_count": 21,
   "metadata": {},
   "outputs": [],
   "source": [
    "# GitHubのリポジトリから実行の場合\n",
    "data_path = \"../data-unversioned/p1ch7/\"\n",
    "\n",
    "# Google Colaboratoryの場合\n",
    "# /data/p1ch4/tabular-wine/winequality-white.csvを選択・アップロードしてください\n",
    "#from google.colab import files\n",
    "#uploade = files.upload()"
   ]
  },
  {
   "cell_type": "code",
   "execution_count": 22,
   "metadata": {},
   "outputs": [
    {
     "name": "stdout",
     "output_type": "stream",
     "text": [
      "Files already downloaded and verified\n",
      "Files already downloaded and verified\n"
     ]
    }
   ],
   "source": [
    "cifar10 = datasets.CIFAR10(data_path, train=True, download=True) # <1>\n",
    "cifar10_val = datasets.CIFAR10(data_path, train=False, download=True) # <2>"
   ]
  },
  {
   "cell_type": "code",
   "execution_count": 92,
   "metadata": {},
   "outputs": [],
   "source": [
    "# 実行するたびに次のセルの実行結果がランダムに変わることが確認できます\n",
    "transformed_cifar10 = datasets.CIFAR10(\n",
    "    data_path, train=True, download=False,\n",
    "    transform=transforms.RandomCrop(32))"
   ]
  },
  {
   "cell_type": "code",
   "execution_count": 93,
   "metadata": {},
   "outputs": [
    {
     "data": {
      "image/png": "[encoded data removed]",
      "text/plain": [
       "<Figure size 432x288 with 1 Axes>"
      ]
     },
     "metadata": {
      "needs_background": "light"
     },
     "output_type": "display_data"
    }
   ],
   "source": [
    "img_t, _ = transformed_cifar10[99]\n",
    "\n",
    "plt.imshow(img_t)\n",
    "plt.show()"
   ]
  },
  {
   "cell_type": "markdown",
   "metadata": {},
   "source": [
    "## 【b】同じ画像を2回クロップするとどうなるか確認してください"
   ]
  },
  {
   "cell_type": "code",
   "execution_count": null,
   "metadata": {},
   "outputs": [],
   "source": [
    "# 回答\n",
    "# 1回目のcropで得られた画像から、さらにランダムに切り取られた画像が得られます。"
   ]
  },
  {
   "cell_type": "code",
   "execution_count": 56,
   "metadata": {},
   "outputs": [],
   "source": [
    "random_crop = transforms.RandomCrop(16)\n",
    "img_t = random_crop(img_t)"
   ]
  },
  {
   "cell_type": "code",
   "execution_count": 57,
   "metadata": {},
   "outputs": [
    {
     "data": {
      "image/png": "[encoded data removed]",
      "text/plain": [
       "<Figure size 432x288 with 1 Axes>"
      ]
     },
     "metadata": {
      "needs_background": "light"
     },
     "output_type": "display_data"
    }
   ],
   "source": [
    "plt.imshow(img_t)\n",
    "plt.show()"
   ]
  },
  {
   "cell_type": "markdown",
   "metadata": {},
   "source": [
    "## 【c】ランダムにクロップされた画像を使った訓練結果を確認してください"
   ]
  },
  {
   "cell_type": "code",
   "execution_count": null,
   "metadata": {},
   "outputs": [],
   "source": [
    "# 回答\n",
    "# 今回のモデルの場合、cropした画像で訓練すると、精度は下がります。\n",
    "# これは全結合のモデルではクロップによる画像の空間的変化を認識できないためです"
   ]
  },
  {
   "cell_type": "code",
   "execution_count": 133,
   "metadata": {},
   "outputs": [],
   "source": [
    "crop_size = 30\n",
    "\n",
    "transform_crop = transforms.Compose([\n",
    "        transforms.RandomCrop(crop_size),\n",
    "        transforms.ToTensor(),\n",
    "        transforms.Normalize((0.4915, 0.4823, 0.4468),\n",
    "                             (0.2470, 0.2435, 0.2616))\n",
    "    ])\n",
    "\n",
    "transform_no_crop = transforms.Compose([       \n",
    "        transforms.ToTensor(),\n",
    "        transforms.Normalize((0.4915, 0.4823, 0.4468),\n",
    "                             (0.2470, 0.2435, 0.2616))\n",
    "    ])\n",
    "\n",
    "\n",
    "cifar10 = datasets.CIFAR10(\n",
    "    data_path, train=True, download=False,\n",
    "    transform=transform_no_crop)\n",
    "\n",
    "cifar10_val = datasets.CIFAR10(\n",
    "    data_path, train=False, download=False,\n",
    "    transform=transform_no_crop)"
   ]
  },
  {
   "cell_type": "code",
   "execution_count": 134,
   "metadata": {},
   "outputs": [],
   "source": [
    "label_map = {0: 0, 2: 1}\n",
    "class_names = ['airplane', 'bird']\n",
    "cifar2 = [(img, label_map[label])\n",
    "          for img, label in cifar10 \n",
    "          if label in [0, 2]]\n",
    "cifar2_val = [(img, label_map[label])\n",
    "              for img, label in cifar10_val\n",
    "              if label in [0, 2]]"
   ]
  },
  {
   "cell_type": "code",
   "execution_count": 135,
   "metadata": {},
   "outputs": [],
   "source": [
    "train_loader = torch.utils.data.DataLoader(cifar2, batch_size=64, shuffle=True)"
   ]
  },
  {
   "cell_type": "code",
   "execution_count": 130,
   "metadata": {},
   "outputs": [
    {
     "name": "stdout",
     "output_type": "stream",
     "text": [
      "Epoch: 0, Loss: 0.632668\n",
      "Epoch: 1, Loss: 0.583662\n",
      "Epoch: 2, Loss: 0.510644\n",
      "Epoch: 3, Loss: 0.522492\n",
      "Epoch: 4, Loss: 0.572710\n",
      "Epoch: 5, Loss: 0.670232\n",
      "Epoch: 6, Loss: 0.651678\n",
      "Epoch: 7, Loss: 0.260835\n",
      "Epoch: 8, Loss: 0.649594\n",
      "Epoch: 9, Loss: 0.412848\n",
      "Epoch: 10, Loss: 0.662059\n",
      "Epoch: 11, Loss: 0.474887\n",
      "Epoch: 12, Loss: 0.350090\n",
      "Epoch: 13, Loss: 0.310838\n",
      "Epoch: 14, Loss: 0.929018\n",
      "Epoch: 15, Loss: 0.274175\n",
      "Epoch: 16, Loss: 0.479683\n",
      "Epoch: 17, Loss: 0.287188\n",
      "Epoch: 18, Loss: 0.373591\n",
      "Epoch: 19, Loss: 0.499466\n",
      "Epoch: 20, Loss: 0.305920\n",
      "Epoch: 21, Loss: 0.406155\n",
      "Epoch: 22, Loss: 0.432189\n",
      "Epoch: 23, Loss: 0.581197\n",
      "Epoch: 24, Loss: 0.459233\n",
      "Epoch: 25, Loss: 0.435899\n",
      "Epoch: 26, Loss: 0.535097\n",
      "Epoch: 27, Loss: 0.391015\n",
      "Epoch: 28, Loss: 0.241818\n",
      "Epoch: 29, Loss: 0.437882\n",
      "Epoch: 30, Loss: 0.345004\n",
      "Epoch: 31, Loss: 0.501271\n",
      "Epoch: 32, Loss: 0.579021\n",
      "Epoch: 33, Loss: 0.542437\n",
      "Epoch: 34, Loss: 0.450785\n",
      "Epoch: 35, Loss: 0.390124\n",
      "Epoch: 36, Loss: 0.505412\n",
      "Epoch: 37, Loss: 0.656195\n",
      "Epoch: 38, Loss: 0.604508\n",
      "Epoch: 39, Loss: 0.593516\n",
      "Epoch: 40, Loss: 0.514931\n",
      "Epoch: 41, Loss: 0.432960\n",
      "Epoch: 42, Loss: 0.512649\n",
      "Epoch: 43, Loss: 0.634816\n",
      "Epoch: 44, Loss: 0.313197\n",
      "Epoch: 45, Loss: 0.760799\n",
      "Epoch: 46, Loss: 0.322675\n",
      "Epoch: 47, Loss: 0.390263\n",
      "Epoch: 48, Loss: 0.355759\n",
      "Epoch: 49, Loss: 0.597017\n",
      "Epoch: 50, Loss: 0.656835\n",
      "Epoch: 51, Loss: 0.421180\n",
      "Epoch: 52, Loss: 0.272409\n",
      "Epoch: 53, Loss: 0.348669\n",
      "Epoch: 54, Loss: 0.847906\n",
      "Epoch: 55, Loss: 0.577339\n",
      "Epoch: 56, Loss: 0.258456\n",
      "Epoch: 57, Loss: 0.318334\n",
      "Epoch: 58, Loss: 0.630863\n",
      "Epoch: 59, Loss: 0.260645\n",
      "Epoch: 60, Loss: 0.510950\n",
      "Epoch: 61, Loss: 0.364905\n",
      "Epoch: 62, Loss: 0.441027\n",
      "Epoch: 63, Loss: 0.136111\n",
      "Epoch: 64, Loss: 0.346525\n",
      "Epoch: 65, Loss: 0.349466\n",
      "Epoch: 66, Loss: 0.633202\n",
      "Epoch: 67, Loss: 0.319315\n",
      "Epoch: 68, Loss: 0.166419\n",
      "Epoch: 69, Loss: 0.318420\n",
      "Epoch: 70, Loss: 0.406870\n",
      "Epoch: 71, Loss: 0.640828\n",
      "Epoch: 72, Loss: 0.426609\n",
      "Epoch: 73, Loss: 0.505127\n",
      "Epoch: 74, Loss: 0.524943\n",
      "Epoch: 75, Loss: 0.308573\n",
      "Epoch: 76, Loss: 0.513980\n",
      "Epoch: 77, Loss: 0.517717\n",
      "Epoch: 78, Loss: 0.383469\n",
      "Epoch: 79, Loss: 0.315950\n",
      "Epoch: 80, Loss: 0.415638\n",
      "Epoch: 81, Loss: 0.514403\n",
      "Epoch: 82, Loss: 0.241211\n",
      "Epoch: 83, Loss: 0.260677\n",
      "Epoch: 84, Loss: 0.311338\n",
      "Epoch: 85, Loss: 0.274925\n",
      "Epoch: 86, Loss: 0.248918\n",
      "Epoch: 87, Loss: 0.338333\n",
      "Epoch: 88, Loss: 0.521916\n",
      "Epoch: 89, Loss: 0.297568\n",
      "Epoch: 90, Loss: 0.216847\n",
      "Epoch: 91, Loss: 0.252971\n",
      "Epoch: 92, Loss: 0.536784\n",
      "Epoch: 93, Loss: 0.320327\n",
      "Epoch: 94, Loss: 0.473559\n",
      "Epoch: 95, Loss: 0.314498\n",
      "Epoch: 96, Loss: 0.294574\n",
      "Epoch: 97, Loss: 0.129971\n",
      "Epoch: 98, Loss: 0.444935\n",
      "Epoch: 99, Loss: 0.241321\n"
     ]
    }
   ],
   "source": [
    "import torch.nn as nn\n",
    "import torch.optim as optim\n",
    "\n",
    "input_size = crop_size * crop_size *3\n",
    "#input_size = 3072 # cropなし\n",
    "\n",
    "model = nn.Sequential(\n",
    "            nn.Linear(input_size, 1024),\n",
    "            nn.Tanh(),\n",
    "            nn.Linear(1024, 512),\n",
    "            nn.Tanh(),\n",
    "            nn.Linear(512, 128),\n",
    "            nn.Tanh(),\n",
    "            nn.Linear(128, 2))\n",
    "\n",
    "learning_rate = 1e-3\n",
    "\n",
    "optimizer = optim.SGD(model.parameters(), lr=learning_rate)\n",
    "\n",
    "loss_fn = nn.CrossEntropyLoss()\n",
    "\n",
    "n_epochs = 100\n",
    "\n",
    "for epoch in range(n_epochs):\n",
    "    for imgs, labels in train_loader:\n",
    "        outputs = model(imgs.view(imgs.shape[0], -1))\n",
    "        loss = loss_fn(outputs, labels)\n",
    "\n",
    "        optimizer.zero_grad()\n",
    "        loss.backward()\n",
    "        optimizer.step()\n",
    "\n",
    "    print(\"Epoch: %d, Loss: %f\" % (epoch, float(loss)))"
   ]
  },
  {
   "cell_type": "code",
   "execution_count": 131,
   "metadata": {},
   "outputs": [
    {
     "name": "stdout",
     "output_type": "stream",
     "text": [
      "Accuracy: 0.843300\n"
     ]
    }
   ],
   "source": [
    "correct = 0\n",
    "total = 0\n",
    "\n",
    "with torch.no_grad():\n",
    "    for imgs, labels in train_loader:\n",
    "        outputs = model(imgs.view(imgs.shape[0], -1))\n",
    "        _, predicted = torch.max(outputs, dim=1)\n",
    "        total += labels.shape[0]\n",
    "        correct += int((predicted == labels).sum())\n",
    "        \n",
    "print(\"Accuracy: %f\" % (correct / total))"
   ]
  },
  {
   "cell_type": "code",
   "execution_count": 132,
   "metadata": {},
   "outputs": [
    {
     "name": "stdout",
     "output_type": "stream",
     "text": [
      "Accuracy: 0.812000\n"
     ]
    }
   ],
   "source": [
    "val_loader = torch.utils.data.DataLoader(cifar2_val, batch_size=64,\n",
    "                                         shuffle=False)\n",
    "\n",
    "correct = 0\n",
    "total = 0\n",
    "\n",
    "with torch.no_grad():\n",
    "    for imgs, labels in val_loader:\n",
    "        outputs = model(imgs.view(imgs.shape[0], -1))\n",
    "        _, predicted = torch.max(outputs, dim=1)\n",
    "        total += labels.shape[0]\n",
    "        correct += int((predicted == labels).sum())\n",
    "        \n",
    "print(\"Accuracy: %f\" % (correct / total))\n"
   ]
  },
  {
   "cell_type": "markdown",
   "metadata": {},
   "source": [
    "# [2] 損失関数を切り替えてください（可能であればMSE）"
   ]
  },
  {
   "cell_type": "markdown",
   "metadata": {},
   "source": [
    "## 【a】訓練の振る舞いが変わるか確認してください"
   ]
  },
  {
   "cell_type": "code",
   "execution_count": null,
   "metadata": {},
   "outputs": [],
   "source": [
    "# 回答\n",
    "# lossをMSEに変えた場合、訓練の振る舞いは変わります。\n",
    "# 確率ではなくラベルを数値に見立て、回帰問題として学習しています"
   ]
  },
  {
   "cell_type": "code",
   "execution_count": 180,
   "metadata": {},
   "outputs": [
    {
     "name": "stderr",
     "output_type": "stream",
     "text": [
      "/Users/goto/.anyenv/envs/pyenv/versions/3.7.4/lib/python3.7/site-packages/torch/nn/modules/loss.py:445: UserWarning: Using a target size (torch.Size([16])) that is different to the input size (torch.Size([16, 1])). This will likely lead to incorrect results due to broadcasting. Please ensure they have the same size.\n",
      "  return F.mse_loss(input, target, reduction=self.reduction)\n"
     ]
    },
    {
     "name": "stdout",
     "output_type": "stream",
     "text": [
      "Epoch: 0, Loss: 0.399389\n",
      "Epoch: 1, Loss: 0.308467\n",
      "Epoch: 2, Loss: 0.251620\n",
      "Epoch: 3, Loss: 0.250273\n",
      "Epoch: 4, Loss: 0.242244\n",
      "Epoch: 5, Loss: 0.253378\n",
      "Epoch: 6, Loss: 0.247346\n",
      "Epoch: 7, Loss: 0.256292\n",
      "Epoch: 8, Loss: 0.250403\n",
      "Epoch: 9, Loss: 0.239607\n",
      "Epoch: 10, Loss: 0.247572\n",
      "Epoch: 11, Loss: 0.257202\n",
      "Epoch: 12, Loss: 0.248193\n",
      "Epoch: 13, Loss: 0.251038\n",
      "Epoch: 14, Loss: 0.250824\n",
      "Epoch: 15, Loss: 0.253099\n",
      "Epoch: 16, Loss: 0.253059\n",
      "Epoch: 17, Loss: 0.249603\n",
      "Epoch: 18, Loss: 0.252977\n",
      "Epoch: 19, Loss: 0.250052\n",
      "Epoch: 20, Loss: 0.250553\n",
      "Epoch: 21, Loss: 0.251027\n",
      "Epoch: 22, Loss: 0.250954\n",
      "Epoch: 23, Loss: 0.253104\n",
      "Epoch: 24, Loss: 0.250690\n",
      "Epoch: 25, Loss: 0.250250\n",
      "Epoch: 26, Loss: 0.250044\n",
      "Epoch: 27, Loss: 0.250358\n",
      "Epoch: 28, Loss: 0.250387\n",
      "Epoch: 29, Loss: 0.250856\n",
      "Epoch: 30, Loss: 0.252075\n",
      "Epoch: 31, Loss: 0.249426\n",
      "Epoch: 32, Loss: 0.250320\n",
      "Epoch: 33, Loss: 0.250944\n",
      "Epoch: 34, Loss: 0.250788\n",
      "Epoch: 35, Loss: 0.247655\n",
      "Epoch: 36, Loss: 0.248636\n",
      "Epoch: 37, Loss: 0.251530\n",
      "Epoch: 38, Loss: 0.249725\n",
      "Epoch: 39, Loss: 0.250252\n",
      "Epoch: 40, Loss: 0.248842\n",
      "Epoch: 41, Loss: 0.249148\n",
      "Epoch: 42, Loss: 0.250732\n",
      "Epoch: 43, Loss: 0.250398\n",
      "Epoch: 44, Loss: 0.250244\n",
      "Epoch: 45, Loss: 0.249885\n",
      "Epoch: 46, Loss: 0.249774\n",
      "Epoch: 47, Loss: 0.250946\n",
      "Epoch: 48, Loss: 0.250982\n",
      "Epoch: 49, Loss: 0.250187\n",
      "Epoch: 50, Loss: 0.249796\n",
      "Epoch: 51, Loss: 0.247662\n",
      "Epoch: 52, Loss: 0.251063\n",
      "Epoch: 53, Loss: 0.250185\n",
      "Epoch: 54, Loss: 0.252220\n",
      "Epoch: 55, Loss: 0.252395\n",
      "Epoch: 56, Loss: 0.247495\n",
      "Epoch: 57, Loss: 0.251779\n",
      "Epoch: 58, Loss: 0.254785\n",
      "Epoch: 59, Loss: 0.252036\n",
      "Epoch: 60, Loss: 0.249568\n",
      "Epoch: 61, Loss: 0.250197\n",
      "Epoch: 62, Loss: 0.250318\n",
      "Epoch: 63, Loss: 0.250082\n",
      "Epoch: 64, Loss: 0.250900\n",
      "Epoch: 65, Loss: 0.250863\n",
      "Epoch: 66, Loss: 0.250340\n",
      "Epoch: 67, Loss: 0.248852\n",
      "Epoch: 68, Loss: 0.249890\n",
      "Epoch: 69, Loss: 0.248719\n",
      "Epoch: 70, Loss: 0.250268\n",
      "Epoch: 71, Loss: 0.250199\n",
      "Epoch: 72, Loss: 0.248775\n",
      "Epoch: 73, Loss: 0.250377\n",
      "Epoch: 74, Loss: 0.249347\n",
      "Epoch: 75, Loss: 0.250549\n",
      "Epoch: 76, Loss: 0.249769\n",
      "Epoch: 77, Loss: 0.252437\n",
      "Epoch: 78, Loss: 0.250253\n",
      "Epoch: 79, Loss: 0.250277\n",
      "Epoch: 80, Loss: 0.250916\n",
      "Epoch: 81, Loss: 0.250172\n",
      "Epoch: 82, Loss: 0.250445\n",
      "Epoch: 83, Loss: 0.249875\n",
      "Epoch: 84, Loss: 0.250410\n",
      "Epoch: 85, Loss: 0.249919\n",
      "Epoch: 86, Loss: 0.249472\n",
      "Epoch: 87, Loss: 0.250268\n",
      "Epoch: 88, Loss: 0.249444\n",
      "Epoch: 89, Loss: 0.250149\n",
      "Epoch: 90, Loss: 0.250694\n",
      "Epoch: 91, Loss: 0.249754\n",
      "Epoch: 92, Loss: 0.250269\n",
      "Epoch: 93, Loss: 0.249452\n",
      "Epoch: 94, Loss: 0.250167\n",
      "Epoch: 95, Loss: 0.250183\n",
      "Epoch: 96, Loss: 0.250534\n",
      "Epoch: 97, Loss: 0.251598\n",
      "Epoch: 98, Loss: 0.250304\n",
      "Epoch: 99, Loss: 0.249434\n"
     ]
    }
   ],
   "source": [
    "input_size = 3072 # cropなし\n",
    "\n",
    "model = nn.Sequential(\n",
    "            nn.Linear(input_size, 1024),\n",
    "            nn.Tanh(),\n",
    "            nn.Linear(1024, 512),\n",
    "            nn.Tanh(),\n",
    "            nn.Linear(512, 128),\n",
    "            nn.Tanh(),\n",
    "            nn.Linear(128, 1),\n",
    "            )\n",
    "\n",
    "learning_rate = 1e-3\n",
    "\n",
    "optimizer = optim.SGD(model.parameters(), lr=learning_rate)\n",
    "\n",
    "loss_fn = nn.MSELoss()\n",
    "\n",
    "n_epochs = 100\n",
    "\n",
    "for epoch in range(n_epochs):\n",
    "    for imgs, labels in train_loader:\n",
    "        outputs = model(imgs.view(imgs.shape[0], -1))\n",
    "        loss = loss_fn(outputs, labels.float())\n",
    "\n",
    "        optimizer.zero_grad()\n",
    "        loss.backward()\n",
    "        optimizer.step()\n",
    "\n",
    "    print(\"Epoch: %d, Loss: %f\" % (epoch, float(loss)))"
   ]
  },
  {
   "cell_type": "code",
   "execution_count": 177,
   "metadata": {},
   "outputs": [
    {
     "name": "stdout",
     "output_type": "stream",
     "text": [
      "Accuracy: 0.606100\n"
     ]
    }
   ],
   "source": [
    "correct = 0\n",
    "total = 0\n",
    "\n",
    "with torch.no_grad():\n",
    "    for imgs, labels in train_loader:\n",
    "        outputs = model(imgs.view(imgs.shape[0], -1))        \n",
    "        outputs[outputs > 0.5] = int(1)\n",
    "        outputs[outputs < 0.5] = int(0)\n",
    "        outputs = outputs.squeeze()     \n",
    "        total += labels.shape[0]\n",
    "        correct += int((outputs == labels).sum())\n",
    "        \n",
    "print(\"Accuracy: %f\" % (correct / total))"
   ]
  },
  {
   "cell_type": "markdown",
   "metadata": {},
   "source": [
    "# [3] ネットワークの容量を十分に減らすことで、過学習を停止することは可能ですか？"
   ]
  },
  {
   "cell_type": "markdown",
   "metadata": {},
   "source": [
    "## 【a】このとき、モデルは検証セットでどのように機能しますか？"
   ]
  },
  {
   "cell_type": "code",
   "execution_count": null,
   "metadata": {},
   "outputs": [],
   "source": [
    "# 回答\n",
    "# 隠れ層を1層減らし、ネットワークの大きさを縮小することで過学習の停止（抑制）は可能です\n",
    "# この時、検証セットでの精度は過学習が抑制されたことにより、モデルを小さくする前より若干ですが改善します"
   ]
  },
  {
   "cell_type": "code",
   "execution_count": 198,
   "metadata": {},
   "outputs": [],
   "source": [
    "transform_no_crop = transforms.Compose([       \n",
    "        transforms.ToTensor(),\n",
    "        transforms.Normalize((0.4915, 0.4823, 0.4468),\n",
    "                             (0.2470, 0.2435, 0.2616))\n",
    "    ])\n",
    "\n",
    "\n",
    "cifar10 = datasets.CIFAR10(\n",
    "    data_path, train=True, download=False,\n",
    "    transform=transform_no_crop)\n",
    "\n",
    "cifar10_val = datasets.CIFAR10(\n",
    "    data_path, train=False, download=False,\n",
    "    transform=transform_no_crop)"
   ]
  },
  {
   "cell_type": "code",
   "execution_count": 199,
   "metadata": {},
   "outputs": [],
   "source": [
    "label_map = {0: 0, 2: 1}\n",
    "class_names = ['airplane', 'bird']\n",
    "cifar2 = [(img, label_map[label])\n",
    "          for img, label in cifar10 \n",
    "          if label in [0, 2]]\n",
    "cifar2_val = [(img, label_map[label])\n",
    "              for img, label in cifar10_val\n",
    "              if label in [0, 2]]"
   ]
  },
  {
   "cell_type": "code",
   "execution_count": 200,
   "metadata": {},
   "outputs": [],
   "source": [
    "batch_size = 64\n",
    "train_loader = torch.utils.data.DataLoader(cifar2, batch_size=batch_size, shuffle=True)\n",
    "val_loader = torch.utils.data.DataLoader(cifar2_val, batch_size=batch_size,shuffle=False)"
   ]
  },
  {
   "cell_type": "code",
   "execution_count": 222,
   "metadata": {},
   "outputs": [
    {
     "name": "stdout",
     "output_type": "stream",
     "text": [
      "Epoch: 0, train_loss: 0.610557, val_loss: 0.566712\n",
      "Epoch: 10, train_loss: 0.484836, val_loss: 0.479519\n",
      "Epoch: 20, train_loss: 0.461390, val_loss: 0.460741\n",
      "Epoch: 30, train_loss: 0.444578, val_loss: 0.448938\n",
      "Epoch: 40, train_loss: 0.430208, val_loss: 0.440196\n",
      "Epoch: 50, train_loss: 0.416957, val_loss: 0.435150\n",
      "Epoch: 60, train_loss: 0.403863, val_loss: 0.439122\n",
      "Epoch: 70, train_loss: 0.388677, val_loss: 0.427953\n",
      "Epoch: 80, train_loss: 0.372876, val_loss: 0.423397\n",
      "Epoch: 90, train_loss: 0.358055, val_loss: 0.428216\n",
      "Epoch: 100, train_loss: 0.340593, val_loss: 0.421416\n",
      "Epoch: 110, train_loss: 0.321357, val_loss: 0.447057\n",
      "Epoch: 120, train_loss: 0.299042, val_loss: 0.425308\n",
      "Epoch: 130, train_loss: 0.275910, val_loss: 0.429433\n",
      "Epoch: 140, train_loss: 0.249123, val_loss: 0.437562\n"
     ]
    }
   ],
   "source": [
    "input_size = 3072 # cropなし\n",
    "\n",
    "# 元のモデル\n",
    "# model = nn.Sequential(\n",
    "#             nn.Linear(input_size, 1024),\n",
    "#             nn.Tanh(),\n",
    "#             nn.Linear(1024, 512),\n",
    "#             nn.Tanh(),\n",
    "#             nn.Linear(512, 128),\n",
    "#             nn.Tanh(),\n",
    "#             nn.Linear(128, 2),\n",
    "#             )\n",
    "\n",
    "\n",
    "model = nn.Sequential(\n",
    "            nn.Linear(input_size, 256),            \n",
    "            nn.Tanh(),\n",
    "            nn.Linear(256, 64),\n",
    "            nn.Tanh(),\n",
    "            nn.Linear(64, 2))\n",
    "\n",
    "learning_rate = 1e-3\n",
    "\n",
    "optimizer = optim.SGD(model.parameters(), lr=learning_rate)\n",
    "\n",
    "loss_fn = nn.CrossEntropyLoss()\n",
    "\n",
    "n_epochs = 150\n",
    "\n",
    "\n",
    "for epoch in range(n_epochs):\n",
    "    train_loss = 0\n",
    "    val_loss = 0\n",
    "    for imgs, labels in train_loader:\n",
    "        outputs = model(imgs.view(imgs.shape[0], -1))\n",
    "        loss = loss_fn(outputs, labels)\n",
    "\n",
    "        optimizer.zero_grad()\n",
    "        loss.backward()\n",
    "        optimizer.step()\n",
    "        train_loss += loss.item()\n",
    "    avg_train_loss = train_loss /len(train_loader)    \n",
    "\n",
    "    with torch.no_grad():\n",
    "        for imgs, labels in val_loader:\n",
    "            outputs = model(imgs.view(imgs.shape[0], -1))\n",
    "            loss = loss_fn(outputs, labels)\n",
    "            val_loss += loss.item()\n",
    "        avg_val_loss = val_loss / len(val_loader)\n",
    "        \n",
    "    if epoch % 10 == 0:\n",
    "        print(\"Epoch: %d, train_loss: %f, val_loss: %f\" % (epoch, avg_train_loss, avg_val_loss))"
   ]
  },
  {
   "cell_type": "code",
   "execution_count": 223,
   "metadata": {},
   "outputs": [
    {
     "name": "stdout",
     "output_type": "stream",
     "text": [
      "Accuracy: 0.912400\n"
     ]
    }
   ],
   "source": [
    "correct = 0\n",
    "total = 0\n",
    "\n",
    "with torch.no_grad():\n",
    "    for imgs, labels in train_loader:\n",
    "        outputs = model(imgs.view(imgs.shape[0], -1))\n",
    "        _, predicted = torch.max(outputs, dim=1)\n",
    "        total += labels.shape[0]\n",
    "        correct += int((predicted == labels).sum())\n",
    "        \n",
    "print(\"Accuracy: %f\" % (correct / total))"
   ]
  },
  {
   "cell_type": "code",
   "execution_count": 224,
   "metadata": {},
   "outputs": [
    {
     "name": "stdout",
     "output_type": "stream",
     "text": [
      "Accuracy: 0.798500\n"
     ]
    }
   ],
   "source": [
    "correct = 0\n",
    "total = 0\n",
    "\n",
    "with torch.no_grad():\n",
    "    for imgs, labels in val_loader:\n",
    "        outputs = model(imgs.view(imgs.shape[0], -1))\n",
    "        _, predicted = torch.max(outputs, dim=1)\n",
    "        total += labels.shape[0]\n",
    "        correct += int((predicted == labels).sum())\n",
    "        \n",
    "print(\"Accuracy: %f\" % (correct / total))"
   ]
  },
  {
   "cell_type": "code",
   "execution_count": null,
   "metadata": {},
   "outputs": [],
   "source": []
  }
 ],
 "metadata": {
  "kernelspec": {
   "display_name": "Python 3",
   "language": "python",
   "name": "python3"
  },
  "language_info": {
   "codemirror_mode": {
    "name": "ipython",
    "version": 3
   },
   "file_extension": ".py",
   "mimetype": "text/x-python",
   "name": "python",
   "nbconvert_exporter": "python",
   "pygments_lexer": "ipython3",
   "version": "3.7.4"
  }
 },
 "nbformat": 4,
 "nbformat_minor": 4
}